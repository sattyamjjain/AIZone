{
 "cells": [
  {
   "cell_type": "markdown",
   "metadata": {},
   "source": [
    "<h3>Introduction</h3>\n",
    "<b>Restricted Boltzmann Machine (RBM):</b>  RBMs are shallow neural nets that learn to reconstruct data by themselves in an unsupervised fashion.  \n",
    "\n",
    "\n",
    "<h4>Why are RBMs important?</h4>\n",
    "An RBM are a basic form of autoencoder.  It can automatically extract <b>meaningful</b> features from a given input.\n",
    "\n",
    "\n",
    "<h4>How does it work?</h4>\n",
    "RBM is a 2 layer neural network. Simply, RBM takes the inputs and translates those into a set of binary values that represents them in the hidden layer. Then, these numbers can be translated back to reconstruct the inputs. Through several forward and backward passes, the RBM will be trained, and a trained RBM can reveal which features are the most important ones when detecting patterns.   \n",
    "\n",
    "\n",
    "<h4>What are the applications of an RBM?</h4>\n",
    "RBM is useful for <a href='http://www.cs.utoronto.ca/~hinton/absps/netflixICML.pdf'>  Collaborative Filtering</a>, dimensionality reduction, classification, regression, feature learning, topic modeling and even <b>Deep Belief Networks</b>.\n",
    "\n",
    "<h4>Is RBM a generative or Discriminative model?</h4>\n",
    "RBM is a generative model. Let me explain it by first, see what is different between discriminative and generative models: \n",
    "\n",
    "<b>Discriminative:</b> Consider a classification problem where we want to learn to distinguish between Sedan cars (y = 1) and SUV cars (y = 0), based on some features of cars. Given a training set, an algorithm like logistic regression tries to find a straight line, or <i>decision boundary</i>, that separates the suv and sedan.  \n",
    "\n",
    "<b>Generative:</b> looking at cars, we can build a model of what Sedan cars look like. Then, looking at SUVs, we can build a separate model of what SUV cars look like. Finally, to classify a new car, we can match the new car against the Sedan model, and match it against the SUV model, to see whether the new car looks more like the SUV or Sedan. \n",
    "\n",
    "Generative Models specify a probability distribution over a dataset of input vectors. We can carry out both supervised and unsupervised tasks with generative models:\n",
    "<ul>\n",
    "    <li>In an unsupervised task, we try to form a model for $P(x)$, where $P$ is the probability given $x$ as an input vector.</li>\n",
    "    <li>In the supervised task, we first form a model for $P(x|y)$, where $P$ is the probability of $x$ given $y$(the label for $x$). For example, if $y = 0$ indicates that a car is an SUV, and $y = 1$ indicates that a car is a sedan, then $p(x|y = 0)$ models the distribution of SUV features, and $p(x|y = 1)$ models the distribution of sedan features. If we manage to find $P(x|y)$ and $P(y)$, then we can use <b>Bayes rule</b> to estimate $P(y|x)$, because:   \n",
    "        $$p(y|x) = \\frac{p(x|y)p(y)}{p(x)}$$</li>\n",
    "</ul>\n",
    "Now the question is, can we build a generative model, and then use it to create synthetic data by directly sampling from the modeled probability distributions? Lets see. \n"
   ]
  },
  {
   "cell_type": "markdown",
   "metadata": {},
   "source": [
    "<a id=\"ref1\"></a>\n",
    "<h3>Initialization</h3>\n",
    "\n",
    "First, we have to load the utility file which contains different utility functions that are not connected\n",
    "in any way to the networks presented in the tutorials, but rather help in\n",
    "processing the outputs into a more understandable way.\n"
   ]
  },
  {
   "cell_type": "code",
   "execution_count": 1,
   "metadata": {
    "tags": []
   },
   "outputs": [],
   "source": [
    "import urllib.request\n",
    "\n",
    "with urllib.request.urlopen(\n",
    "    \"https://cf-courses-data.s3.us.cloud-object-storage.appdomain.cloud/IBMDeveloperSkillsNetwork-DL0120EN-SkillsNetwork/labs/Week4/data/utils.py\"\n",
    ") as url:\n",
    "    response = url.read()\n",
    "target = open(\"utils.py\", \"w\")\n",
    "target.write(response.decode(\"utf-8\"))\n",
    "target.close()"
   ]
  },
  {
   "cell_type": "markdown",
   "metadata": {},
   "source": [
    "<h2>Installing TensorFlow </h2>\n",
    "\n",
    "We will installing TensorFlow version 2.9.0 and its required prerequistes.  Also installing pillow...\n"
   ]
  },
  {
   "cell_type": "code",
   "execution_count": 2,
   "metadata": {
    "tags": []
   },
   "outputs": [
    {
     "name": "stdout",
     "output_type": "stream",
     "text": [
      "Collecting grpcio==1.24.3\n",
      "  Downloading grpcio-1.24.3-cp37-cp37m-manylinux2010_x86_64.whl (2.2 MB)\n",
      "\u001b[2K     \u001b[90m━━━━━━━━━━━━━━━━━━━━━━━━━━━━━━━━━━━━━━━━\u001b[0m \u001b[32m2.2/2.2 MB\u001b[0m \u001b[31m72.8 MB/s\u001b[0m eta \u001b[36m0:00:00\u001b[0m\n",
      "\u001b[?25hRequirement already satisfied: six>=1.5.2 in /home/jupyterlab/conda/envs/python/lib/python3.7/site-packages (from grpcio==1.24.3) (1.16.0)\n",
      "Installing collected packages: grpcio\n",
      "  Attempting uninstall: grpcio\n",
      "    Found existing installation: grpcio 1.48.1\n",
      "    Uninstalling grpcio-1.48.1:\n",
      "      Successfully uninstalled grpcio-1.48.1\n",
      "Successfully installed grpcio-1.24.3\n",
      "Collecting tensorflow==2.9.0\n",
      "  Downloading tensorflow-2.9.0-cp37-cp37m-manylinux_2_17_x86_64.manylinux2014_x86_64.whl (511.7 MB)\n",
      "\u001b[2K     \u001b[90m━━━━━━━━━━━━━━━━━━━━━━━━━━━━━━━━━━━━━\u001b[0m \u001b[32m511.7/511.7 MB\u001b[0m \u001b[31m942.9 kB/s\u001b[0m eta \u001b[36m0:00:00\u001b[0m00:01\u001b[0m00:01\u001b[0m\n",
      "\u001b[?25hRequirement already satisfied: absl-py>=1.0.0 in /home/jupyterlab/conda/envs/python/lib/python3.7/site-packages (from tensorflow==2.9.0) (1.4.0)\n",
      "Collecting astunparse>=1.6.0 (from tensorflow==2.9.0)\n",
      "  Downloading astunparse-1.6.3-py2.py3-none-any.whl (12 kB)\n",
      "Collecting flatbuffers<2,>=1.12 (from tensorflow==2.9.0)\n",
      "  Downloading flatbuffers-1.12-py2.py3-none-any.whl (15 kB)\n",
      "Collecting gast<=0.4.0,>=0.2.1 (from tensorflow==2.9.0)\n",
      "  Downloading gast-0.4.0-py3-none-any.whl (9.8 kB)\n",
      "Requirement already satisfied: google-pasta>=0.1.1 in /home/jupyterlab/conda/envs/python/lib/python3.7/site-packages (from tensorflow==2.9.0) (0.2.0)\n",
      "Requirement already satisfied: grpcio<2.0,>=1.24.3 in /home/jupyterlab/conda/envs/python/lib/python3.7/site-packages (from tensorflow==2.9.0) (1.24.3)\n",
      "Collecting h5py>=2.9.0 (from tensorflow==2.9.0)\n",
      "  Downloading h5py-3.8.0-cp37-cp37m-manylinux_2_17_x86_64.manylinux2014_x86_64.whl (4.3 MB)\n",
      "\u001b[2K     \u001b[90m━━━━━━━━━━━━━━━━━━━━━━━━━━━━━━━━━━━━━━━━\u001b[0m \u001b[32m4.3/4.3 MB\u001b[0m \u001b[31m89.6 MB/s\u001b[0m eta \u001b[36m0:00:00\u001b[0m:00:01\u001b[0m\n",
      "\u001b[?25hCollecting keras<2.10.0,>=2.9.0rc0 (from tensorflow==2.9.0)\n",
      "  Downloading keras-2.9.0-py2.py3-none-any.whl (1.6 MB)\n",
      "\u001b[2K     \u001b[90m━━━━━━━━━━━━━━━━━━━━━━━━━━━━━━━━━━━━━━━━\u001b[0m \u001b[32m1.6/1.6 MB\u001b[0m \u001b[31m83.5 MB/s\u001b[0m eta \u001b[36m0:00:00\u001b[0m\n",
      "\u001b[?25hRequirement already satisfied: keras-preprocessing>=1.1.1 in /home/jupyterlab/conda/envs/python/lib/python3.7/site-packages (from tensorflow==2.9.0) (1.1.2)\n",
      "Collecting libclang>=13.0.0 (from tensorflow==2.9.0)\n",
      "  Downloading libclang-18.1.1-py2.py3-none-manylinux2010_x86_64.whl (24.5 MB)\n",
      "\u001b[2K     \u001b[90m━━━━━━━━━━━━━━━━━━━━━━━━━━━━━━━━━━━━━━━━\u001b[0m \u001b[32m24.5/24.5 MB\u001b[0m \u001b[31m61.4 MB/s\u001b[0m eta \u001b[36m0:00:00\u001b[0m00:01\u001b[0m00:01\u001b[0m\n",
      "\u001b[?25hRequirement already satisfied: numpy>=1.20 in /home/jupyterlab/conda/envs/python/lib/python3.7/site-packages (from tensorflow==2.9.0) (1.21.6)\n",
      "Collecting opt-einsum>=2.3.2 (from tensorflow==2.9.0)\n",
      "  Downloading opt_einsum-3.3.0-py3-none-any.whl (65 kB)\n",
      "\u001b[2K     \u001b[90m━━━━━━━━━━━━━━━━━━━━━━━━━━━━━━━━━━━━━━━━\u001b[0m \u001b[32m65.5/65.5 kB\u001b[0m \u001b[31m15.1 MB/s\u001b[0m eta \u001b[36m0:00:00\u001b[0m\n",
      "\u001b[?25hRequirement already satisfied: packaging in /home/jupyterlab/conda/envs/python/lib/python3.7/site-packages (from tensorflow==2.9.0) (23.1)\n",
      "Requirement already satisfied: protobuf>=3.9.2 in /home/jupyterlab/conda/envs/python/lib/python3.7/site-packages (from tensorflow==2.9.0) (4.21.8)\n",
      "Requirement already satisfied: setuptools in /home/jupyterlab/conda/envs/python/lib/python3.7/site-packages (from tensorflow==2.9.0) (67.7.2)\n",
      "Requirement already satisfied: six>=1.12.0 in /home/jupyterlab/conda/envs/python/lib/python3.7/site-packages (from tensorflow==2.9.0) (1.16.0)\n",
      "Collecting tensorboard<2.10,>=2.9 (from tensorflow==2.9.0)\n",
      "  Downloading tensorboard-2.9.1-py3-none-any.whl (5.8 MB)\n",
      "\u001b[2K     \u001b[90m━━━━━━━━━━━━━━━━━━━━━━━━━━━━━━━━━━━━━━━━\u001b[0m \u001b[32m5.8/5.8 MB\u001b[0m \u001b[31m92.1 MB/s\u001b[0m eta \u001b[36m0:00:00\u001b[0m:00:01\u001b[0m\n",
      "\u001b[?25hCollecting tensorflow-io-gcs-filesystem>=0.23.1 (from tensorflow==2.9.0)\n",
      "  Downloading tensorflow_io_gcs_filesystem-0.34.0-cp37-cp37m-manylinux_2_12_x86_64.manylinux2010_x86_64.whl (2.4 MB)\n",
      "\u001b[2K     \u001b[90m━━━━━━━━━━━━━━━━━━━━━━━━━━━━━━━━━━━━━━━━\u001b[0m \u001b[32m2.4/2.4 MB\u001b[0m \u001b[31m88.1 MB/s\u001b[0m eta \u001b[36m0:00:00\u001b[0m\n",
      "\u001b[?25hCollecting tensorflow-estimator<2.10.0,>=2.9.0rc0 (from tensorflow==2.9.0)\n",
      "  Downloading tensorflow_estimator-2.9.0-py2.py3-none-any.whl (438 kB)\n",
      "\u001b[2K     \u001b[90m━━━━━━━━━━━━━━━━━━━━━━━━━━━━━━━━━━━━━━\u001b[0m \u001b[32m438.7/438.7 kB\u001b[0m \u001b[31m57.4 MB/s\u001b[0m eta \u001b[36m0:00:00\u001b[0m\n",
      "\u001b[?25hRequirement already satisfied: termcolor>=1.1.0 in /home/jupyterlab/conda/envs/python/lib/python3.7/site-packages (from tensorflow==2.9.0) (2.3.0)\n",
      "Requirement already satisfied: typing-extensions>=3.6.6 in /home/jupyterlab/conda/envs/python/lib/python3.7/site-packages (from tensorflow==2.9.0) (4.5.0)\n",
      "Requirement already satisfied: wrapt>=1.11.0 in /home/jupyterlab/conda/envs/python/lib/python3.7/site-packages (from tensorflow==2.9.0) (1.14.1)\n",
      "Requirement already satisfied: wheel<1.0,>=0.23.0 in /home/jupyterlab/conda/envs/python/lib/python3.7/site-packages (from astunparse>=1.6.0->tensorflow==2.9.0) (0.40.0)\n",
      "Collecting google-auth<3,>=1.6.3 (from tensorboard<2.10,>=2.9->tensorflow==2.9.0)\n",
      "  Downloading google_auth-2.29.0-py2.py3-none-any.whl (189 kB)\n",
      "\u001b[2K     \u001b[90m━━━━━━━━━━━━━━━━━━━━━━━━━━━━━━━━━━━━━━\u001b[0m \u001b[32m189.2/189.2 kB\u001b[0m \u001b[31m33.2 MB/s\u001b[0m eta \u001b[36m0:00:00\u001b[0m\n",
      "\u001b[?25hCollecting google-auth-oauthlib<0.5,>=0.4.1 (from tensorboard<2.10,>=2.9->tensorflow==2.9.0)\n",
      "  Downloading google_auth_oauthlib-0.4.6-py2.py3-none-any.whl (18 kB)\n",
      "Requirement already satisfied: markdown>=2.6.8 in /home/jupyterlab/conda/envs/python/lib/python3.7/site-packages (from tensorboard<2.10,>=2.9->tensorflow==2.9.0) (3.4.3)\n",
      "Collecting protobuf>=3.9.2 (from tensorflow==2.9.0)\n",
      "  Downloading protobuf-3.19.6-cp37-cp37m-manylinux_2_17_x86_64.manylinux2014_x86_64.whl (1.1 MB)\n",
      "\u001b[2K     \u001b[90m━━━━━━━━━━━━━━━━━━━━━━━━━━━━━━━━━━━━━━━━\u001b[0m \u001b[32m1.1/1.1 MB\u001b[0m \u001b[31m71.9 MB/s\u001b[0m eta \u001b[36m0:00:00\u001b[0m\n",
      "\u001b[?25hRequirement already satisfied: requests<3,>=2.21.0 in /home/jupyterlab/conda/envs/python/lib/python3.7/site-packages (from tensorboard<2.10,>=2.9->tensorflow==2.9.0) (2.29.0)\n",
      "Collecting tensorboard-data-server<0.7.0,>=0.6.0 (from tensorboard<2.10,>=2.9->tensorflow==2.9.0)\n",
      "  Downloading tensorboard_data_server-0.6.1-py3-none-manylinux2010_x86_64.whl (4.9 MB)\n",
      "\u001b[2K     \u001b[90m━━━━━━━━━━━━━━━━━━━━━━━━━━━━━━━━━━━━━━━━\u001b[0m \u001b[32m4.9/4.9 MB\u001b[0m \u001b[31m110.9 MB/s\u001b[0m eta \u001b[36m0:00:00\u001b[0m00:01\u001b[0m\n",
      "\u001b[?25hCollecting tensorboard-plugin-wit>=1.6.0 (from tensorboard<2.10,>=2.9->tensorflow==2.9.0)\n",
      "  Downloading tensorboard_plugin_wit-1.8.1-py3-none-any.whl (781 kB)\n",
      "\u001b[2K     \u001b[90m━━━━━━━━━━━━━━━━━━━━━━━━━━━━━━━━━━━━━━\u001b[0m \u001b[32m781.3/781.3 kB\u001b[0m \u001b[31m74.2 MB/s\u001b[0m eta \u001b[36m0:00:00\u001b[0m\n",
      "\u001b[?25hRequirement already satisfied: werkzeug>=1.0.1 in /home/jupyterlab/conda/envs/python/lib/python3.7/site-packages (from tensorboard<2.10,>=2.9->tensorflow==2.9.0) (2.2.3)\n",
      "Collecting cachetools<6.0,>=2.0.0 (from google-auth<3,>=1.6.3->tensorboard<2.10,>=2.9->tensorflow==2.9.0)\n",
      "  Downloading cachetools-5.3.3-py3-none-any.whl (9.3 kB)\n",
      "Requirement already satisfied: pyasn1-modules>=0.2.1 in /home/jupyterlab/conda/envs/python/lib/python3.7/site-packages (from google-auth<3,>=1.6.3->tensorboard<2.10,>=2.9->tensorflow==2.9.0) (0.3.0)\n",
      "Collecting rsa<5,>=3.1.4 (from google-auth<3,>=1.6.3->tensorboard<2.10,>=2.9->tensorflow==2.9.0)\n",
      "  Downloading rsa-4.9-py3-none-any.whl (34 kB)\n",
      "Collecting requests-oauthlib>=0.7.0 (from google-auth-oauthlib<0.5,>=0.4.1->tensorboard<2.10,>=2.9->tensorflow==2.9.0)\n",
      "  Downloading requests_oauthlib-2.0.0-py2.py3-none-any.whl (24 kB)\n",
      "Requirement already satisfied: importlib-metadata>=4.4 in /home/jupyterlab/conda/envs/python/lib/python3.7/site-packages (from markdown>=2.6.8->tensorboard<2.10,>=2.9->tensorflow==2.9.0) (4.11.4)\n",
      "Requirement already satisfied: charset-normalizer<4,>=2 in /home/jupyterlab/conda/envs/python/lib/python3.7/site-packages (from requests<3,>=2.21.0->tensorboard<2.10,>=2.9->tensorflow==2.9.0) (3.1.0)\n",
      "Requirement already satisfied: idna<4,>=2.5 in /home/jupyterlab/conda/envs/python/lib/python3.7/site-packages (from requests<3,>=2.21.0->tensorboard<2.10,>=2.9->tensorflow==2.9.0) (3.4)\n",
      "Requirement already satisfied: urllib3<1.27,>=1.21.1 in /home/jupyterlab/conda/envs/python/lib/python3.7/site-packages (from requests<3,>=2.21.0->tensorboard<2.10,>=2.9->tensorflow==2.9.0) (1.26.15)\n",
      "Requirement already satisfied: certifi>=2017.4.17 in /home/jupyterlab/conda/envs/python/lib/python3.7/site-packages (from requests<3,>=2.21.0->tensorboard<2.10,>=2.9->tensorflow==2.9.0) (2023.5.7)\n",
      "Requirement already satisfied: MarkupSafe>=2.1.1 in /home/jupyterlab/conda/envs/python/lib/python3.7/site-packages (from werkzeug>=1.0.1->tensorboard<2.10,>=2.9->tensorflow==2.9.0) (2.1.1)\n",
      "Requirement already satisfied: zipp>=0.5 in /home/jupyterlab/conda/envs/python/lib/python3.7/site-packages (from importlib-metadata>=4.4->markdown>=2.6.8->tensorboard<2.10,>=2.9->tensorflow==2.9.0) (3.15.0)\n",
      "Requirement already satisfied: pyasn1<0.6.0,>=0.4.6 in /home/jupyterlab/conda/envs/python/lib/python3.7/site-packages (from pyasn1-modules>=0.2.1->google-auth<3,>=1.6.3->tensorboard<2.10,>=2.9->tensorflow==2.9.0) (0.5.0)\n",
      "Collecting oauthlib>=3.0.0 (from requests-oauthlib>=0.7.0->google-auth-oauthlib<0.5,>=0.4.1->tensorboard<2.10,>=2.9->tensorflow==2.9.0)\n",
      "  Downloading oauthlib-3.2.2-py3-none-any.whl (151 kB)\n",
      "\u001b[2K     \u001b[90m━━━━━━━━━━━━━━━━━━━━━━━━━━━━━━━━━━━━━━\u001b[0m \u001b[32m151.7/151.7 kB\u001b[0m \u001b[31m22.4 MB/s\u001b[0m eta \u001b[36m0:00:00\u001b[0m\n",
      "\u001b[?25hInstalling collected packages: tensorboard-plugin-wit, libclang, keras, flatbuffers, tensorflow-io-gcs-filesystem, tensorflow-estimator, tensorboard-data-server, rsa, protobuf, opt-einsum, oauthlib, h5py, gast, cachetools, astunparse, requests-oauthlib, google-auth, google-auth-oauthlib, tensorboard, tensorflow\n",
      "  Attempting uninstall: keras\n",
      "    Found existing installation: Keras 2.1.6\n",
      "    Uninstalling Keras-2.1.6:\n",
      "      Successfully uninstalled Keras-2.1.6\n",
      "  Attempting uninstall: tensorflow-estimator\n",
      "    Found existing installation: tensorflow-estimator 1.14.0\n",
      "    Uninstalling tensorflow-estimator-1.14.0:\n",
      "      Successfully uninstalled tensorflow-estimator-1.14.0\n",
      "  Attempting uninstall: protobuf\n",
      "    Found existing installation: protobuf 4.21.8\n",
      "    Uninstalling protobuf-4.21.8:\n",
      "      Successfully uninstalled protobuf-4.21.8\n",
      "  Attempting uninstall: h5py\n",
      "    Found existing installation: h5py 2.8.0\n",
      "    Uninstalling h5py-2.8.0:\n",
      "      Successfully uninstalled h5py-2.8.0\n",
      "  Attempting uninstall: gast\n",
      "    Found existing installation: gast 0.5.3\n",
      "    Uninstalling gast-0.5.3:\n",
      "      Successfully uninstalled gast-0.5.3\n",
      "  Attempting uninstall: tensorboard\n",
      "    Found existing installation: tensorboard 1.14.0\n",
      "    Uninstalling tensorboard-1.14.0:\n",
      "      Successfully uninstalled tensorboard-1.14.0\n",
      "  Attempting uninstall: tensorflow\n",
      "    Found existing installation: tensorflow 1.14.0\n",
      "    Uninstalling tensorflow-1.14.0:\n",
      "      Successfully uninstalled tensorflow-1.14.0\n",
      "Successfully installed astunparse-1.6.3 cachetools-5.3.3 flatbuffers-1.12 gast-0.4.0 google-auth-2.29.0 google-auth-oauthlib-0.4.6 h5py-3.8.0 keras-2.9.0 libclang-18.1.1 oauthlib-3.2.2 opt-einsum-3.3.0 protobuf-3.19.6 requests-oauthlib-2.0.0 rsa-4.9 tensorboard-2.9.1 tensorboard-data-server-0.6.1 tensorboard-plugin-wit-1.8.1 tensorflow-2.9.0 tensorflow-estimator-2.9.0 tensorflow-io-gcs-filesystem-0.34.0\n",
      "Requirement already satisfied: pillow==8.1.0 in /home/jupyterlab/conda/envs/python/lib/python3.7/site-packages (8.1.0)\n"
     ]
    }
   ],
   "source": [
    "!pip install grpcio==1.24.3\n",
    "!pip install tensorflow==2.9.0\n",
    "!pip install pillow==8.1.0"
   ]
  },
  {
   "cell_type": "markdown",
   "metadata": {},
   "source": [
    "**Restart kernel for latest version of TensorFlow to be activated, then continue to the next section.**\n"
   ]
  },
  {
   "cell_type": "markdown",
   "metadata": {},
   "source": [
    "<b>Notice:</b> This notebook has been created with TensorFlow version 2.9.0, and might not work with other versions. Therefore we check:\n"
   ]
  },
  {
   "cell_type": "code",
   "execution_count": 3,
   "metadata": {
    "tags": []
   },
   "outputs": [
    {
     "name": "stderr",
     "output_type": "stream",
     "text": [
      "2024-05-30 16:59:20.986287: I tensorflow/core/util/util.cc:169] oneDNN custom operations are on. You may see slightly different numerical results due to floating-point round-off errors from different computation orders. To turn them off, set the environment variable `TF_ENABLE_ONEDNN_OPTS=0`.\n",
      "2024-05-30 16:59:20.993091: W tensorflow/stream_executor/platform/default/dso_loader.cc:64] Could not load dynamic library 'libcudart.so.11.0'; dlerror: libcudart.so.11.0: cannot open shared object file: No such file or directory\n",
      "2024-05-30 16:59:20.993136: I tensorflow/stream_executor/cuda/cudart_stub.cc:29] Ignore above cudart dlerror if you do not have a GPU set up on your machine.\n"
     ]
    }
   ],
   "source": [
    "import tensorflow as tf\n",
    "from IPython.display import Markdown, display\n",
    "\n",
    "\n",
    "def printmd(string):\n",
    "    display(Markdown('# <span style=\"color:red\">' + string + \"</span>\"))\n",
    "\n",
    "\n",
    "if not tf.__version__ == \"2.9.0\":\n",
    "    printmd(\n",
    "        \"<<<<<!!!!! ERROR !!!! please upgrade to TensorFlow 2.9.0, or restart your Kernel (Kernel->Restart & Clear Output)>>>>>\"\n",
    "    )"
   ]
  },
  {
   "cell_type": "code",
   "execution_count": 5,
   "metadata": {
    "tags": []
   },
   "outputs": [],
   "source": [
    "\"\"\" This file contains different utility functions that are not connected\n",
    "in anyway to the networks presented in the tutorials, but rather help in\n",
    "processing the outputs into a more understandable way.\n",
    "\n",
    "For example ``tile_raster_images`` helps in generating a easy to grasp\n",
    "image from a set of samples or weights.\n",
    "\"\"\"\n",
    "\n",
    "import numpy\n",
    "\n",
    "\n",
    "def scale_to_unit_interval(ndar, eps=1e-8):\n",
    "    \"\"\"Scales all values in the ndarray ndar to be between 0 and 1\"\"\"\n",
    "    ndar = ndar.copy()\n",
    "    ndar -= ndar.min()\n",
    "    ndar *= 1.0 / (ndar.max() + eps)\n",
    "    return ndar\n",
    "\n",
    "\n",
    "def tile_raster_images(\n",
    "    X,\n",
    "    img_shape,\n",
    "    tile_shape,\n",
    "    tile_spacing=(0, 0),\n",
    "    scale_rows_to_unit_interval=True,\n",
    "    output_pixel_vals=True,\n",
    "):\n",
    "    \"\"\"\n",
    "    Transform an array with one flattened image per row, into an array in\n",
    "    which images are reshaped and layed out like tiles on a floor.\n",
    "\n",
    "    This function is useful for visualizing datasets whose rows are images,\n",
    "    and also columns of matrices for transforming those rows\n",
    "    (such as the first layer of a neural net).\n",
    "\n",
    "    :type X: a 2-D ndarray or a tuple of 4 channels, elements of which can\n",
    "    be 2-D ndarrays or None;\n",
    "    :param X: a 2-D array in which every row is a flattened image.\n",
    "\n",
    "    :type img_shape: tuple; (height, width)\n",
    "    :param img_shape: the original shape of each image\n",
    "\n",
    "    :type tile_shape: tuple; (rows, cols)\n",
    "    :param tile_shape: the number of images to tile (rows, cols)\n",
    "\n",
    "    :param output_pixel_vals: if output should be pixel values (i.e. int8\n",
    "    values) or floats\n",
    "\n",
    "    :param scale_rows_to_unit_interval: if the values need to be scaled before\n",
    "    being plotted to [0,1] or not\n",
    "\n",
    "\n",
    "    :returns: array suitable for viewing as an image.\n",
    "    (See:`Image.fromarray`.)\n",
    "    :rtype: a 2-d array with same dtype as X.\n",
    "\n",
    "    \"\"\"\n",
    "\n",
    "    assert len(img_shape) == 2\n",
    "    assert len(tile_shape) == 2\n",
    "    assert len(tile_spacing) == 2\n",
    "\n",
    "    # The expression below can be re-written in a more C style as\n",
    "    # follows :\n",
    "    #\n",
    "    # out_shape    = [0,0]\n",
    "    # out_shape[0] = (img_shape[0]+tile_spacing[0])*tile_shape[0] -\n",
    "    #                tile_spacing[0]\n",
    "    # out_shape[1] = (img_shape[1]+tile_spacing[1])*tile_shape[1] -\n",
    "    #                tile_spacing[1]\n",
    "    out_shape = [\n",
    "        (ishp + tsp) * tshp - tsp\n",
    "        for ishp, tshp, tsp in zip(img_shape, tile_shape, tile_spacing)\n",
    "    ]\n",
    "\n",
    "    if isinstance(X, tuple):\n",
    "        assert len(X) == 4\n",
    "        # Create an output numpy ndarray to store the image\n",
    "        if output_pixel_vals:\n",
    "            out_array = numpy.zeros((out_shape[0], out_shape[1], 4), dtype=\"uint8\")\n",
    "        else:\n",
    "            out_array = numpy.zeros((out_shape[0], out_shape[1], 4), dtype=X.dtype)\n",
    "\n",
    "        # colors default to 0, alpha defaults to 1 (opaque)\n",
    "        if output_pixel_vals:\n",
    "            channel_defaults = [0, 0, 0, 255]\n",
    "        else:\n",
    "            channel_defaults = [0.0, 0.0, 0.0, 1.0]\n",
    "\n",
    "        for i in range(4):\n",
    "            if X[i] is None:\n",
    "                # if channel is None, fill it with zeros of the correct\n",
    "                # dtype\n",
    "                dt = out_array.dtype\n",
    "                if output_pixel_vals:\n",
    "                    dt = \"uint8\"\n",
    "                out_array[:, :, i] = (\n",
    "                    numpy.zeros(out_shape, dtype=dt) + channel_defaults[i]\n",
    "                )\n",
    "            else:\n",
    "                # use a recurrent call to compute the channel and store it\n",
    "                # in the output\n",
    "                out_array[:, :, i] = tile_raster_images(\n",
    "                    X[i],\n",
    "                    img_shape,\n",
    "                    tile_shape,\n",
    "                    tile_spacing,\n",
    "                    scale_rows_to_unit_interval,\n",
    "                    output_pixel_vals,\n",
    "                )\n",
    "        return out_array\n",
    "\n",
    "    else:\n",
    "        # if we are dealing with only one channel\n",
    "        H, W = img_shape\n",
    "        Hs, Ws = tile_spacing\n",
    "\n",
    "        # generate a matrix to store the output\n",
    "        dt = X.dtype\n",
    "        if output_pixel_vals:\n",
    "            dt = \"uint8\"\n",
    "        out_array = numpy.zeros(out_shape, dtype=dt)\n",
    "\n",
    "        for tile_row in range(tile_shape[0]):\n",
    "            for tile_col in range(tile_shape[1]):\n",
    "                if tile_row * tile_shape[1] + tile_col < X.shape[0]:\n",
    "                    this_x = X[tile_row * tile_shape[1] + tile_col]\n",
    "                    if scale_rows_to_unit_interval:\n",
    "                        # if we should scale values to be between 0 and 1\n",
    "                        # do this by calling the `scale_to_unit_interval`\n",
    "                        # function\n",
    "                        this_img = scale_to_unit_interval(this_x.reshape(img_shape))\n",
    "                    else:\n",
    "                        this_img = this_x.reshape(img_shape)\n",
    "                    # add the slice to the corresponding position in the\n",
    "                    # output array\n",
    "                    c = 1\n",
    "                    if output_pixel_vals:\n",
    "                        c = 255\n",
    "                    out_array[\n",
    "                        tile_row * (H + Hs) : tile_row * (H + Hs) + H,\n",
    "                        tile_col * (W + Ws) : tile_col * (W + Ws) + W,\n",
    "                    ] = (\n",
    "                        this_img * c\n",
    "                    )\n",
    "        return out_array"
   ]
  },
  {
   "cell_type": "markdown",
   "metadata": {},
   "source": [
    "Now, we load in all the packages that we use to create the net including the TensorFlow package:\n"
   ]
  },
  {
   "cell_type": "code",
   "execution_count": 6,
   "metadata": {
    "tags": []
   },
   "outputs": [],
   "source": [
    "import tensorflow as tf\n",
    "import numpy as np\n",
    "\n",
    "from PIL import Image\n",
    "import matplotlib.pyplot as plt\n",
    "\n",
    "%matplotlib inline"
   ]
  },
  {
   "cell_type": "markdown",
   "metadata": {},
   "source": [
    "<hr>\n"
   ]
  },
  {
   "cell_type": "markdown",
   "metadata": {},
   "source": [
    "<a id=\"ref2\"></a>\n",
    "<h3>RBM layers</h3>\n",
    "\n",
    "An RBM has two layers. The first layer of the RBM is called the <b>visible</b> (or input layer). Imagine that our toy example, has only vectors with 7 values, so the visible layer must have $V=7$ input nodes. \n",
    "The second layer is the <b>hidden</b> layer, which has $H$ neurons in our case. Each hidden node takes on values of either 0 or 1 (i.e., $h_i = 1$ or $h_i$ = 0), with a probability that is a logistic function of the inputs it receives from the other $V$ visible units, called for example, $p(h_i = 1)$. For our toy sample, we'll use 2 nodes in the hidden layer, so $H = 2$.\n",
    "\n",
    "<center><img src=\"https://ibm.box.com/shared/static/eu26opvcefgls6vnwuo29uwp0nudmokh.png\" alt=\"RBM Model\" style=\"width: 400px;\"></center>\n"
   ]
  },
  {
   "cell_type": "markdown",
   "metadata": {},
   "source": [
    "     \n",
    "\n",
    "Each node in the first layer also has a <b>bias</b>. We will denote the bias as $v_{bias}$, and this single value is shared among the $V$ visible units.\n",
    "\n",
    "The <b>bias</b> of the second is defined similarly as $h_{bias}$, and this single value among the $H$ hidden units.\n"
   ]
  },
  {
   "cell_type": "code",
   "execution_count": 7,
   "metadata": {
    "tags": []
   },
   "outputs": [
    {
     "name": "stderr",
     "output_type": "stream",
     "text": [
      "2024-05-30 16:59:53.559159: W tensorflow/stream_executor/platform/default/dso_loader.cc:64] Could not load dynamic library 'libcuda.so.1'; dlerror: libcuda.so.1: cannot open shared object file: No such file or directory\n",
      "2024-05-30 16:59:53.559261: W tensorflow/stream_executor/cuda/cuda_driver.cc:269] failed call to cuInit: UNKNOWN ERROR (303)\n",
      "2024-05-30 16:59:53.559374: I tensorflow/stream_executor/cuda/cuda_diagnostics.cc:156] kernel driver does not appear to be running on this host (jupyterlab-sattyamjain9): /proc/driver/nvidia/version does not exist\n",
      "2024-05-30 16:59:53.560178: I tensorflow/core/platform/cpu_feature_guard.cc:193] This TensorFlow binary is optimized with oneAPI Deep Neural Network Library (oneDNN) to use the following CPU instructions in performance-critical operations:  AVX2 AVX512F AVX512_VNNI FMA\n",
      "To enable them in other operations, rebuild TensorFlow with the appropriate compiler flags.\n"
     ]
    }
   ],
   "source": [
    "v_bias = tf.Variable(tf.zeros([7]), tf.float32)\n",
    "h_bias = tf.Variable(tf.zeros([2]), tf.float32)"
   ]
  },
  {
   "cell_type": "markdown",
   "metadata": {},
   "source": [
    "We have to define weights among the input layer and hidden layer nodes. In the weight matrix, the number of rows are equal to the input nodes, and the number of columns are equal to the output nodes. We define a tensor $\\mathbf{W}$ of shape = (7,2), where the number of visible neurons = 7, and the number of hidden neurons = 2. \n"
   ]
  },
  {
   "cell_type": "code",
   "execution_count": 8,
   "metadata": {
    "tags": []
   },
   "outputs": [],
   "source": [
    "W = tf.constant(np.random.normal(loc=0.0, scale=1.0, size=(7, 2)).astype(np.float32))"
   ]
  },
  {
   "cell_type": "markdown",
   "metadata": {},
   "source": [
    "<hr>\n"
   ]
  },
  {
   "cell_type": "markdown",
   "metadata": {},
   "source": [
    "<a id=\"ref3\"></a>\n",
    "<h3>What RBM can do after training?</h3>\n",
    "Think of RBM as a model that has been trained based on images of a dataset of many SUV and sedan cars. Also, imagine that the RBM network has only two hidden nodes, where one node encodes the weight and, and the other encodes the size.  \n",
    "In a sense, the different configurations represent different cars, where one is an SUV and the other is Sedan.  In a training process, through many forward and backward passes, the RBM adjust its weights to send a stronger signal to either the SUV node (0, 1) or the sedan node (1, 0) in the hidden layer, given the pixels of images. Now, given an SUV in hidden layer, which distribution of pixels should we expect? RBM can give you 2 things. First, it encodes your images in hidden layer. Second, it gives you the probability of observing a case, given some hidden values.\n",
    "\n",
    "\n",
    "<h3>The Inference Process</h3>\n",
    "\n",
    "RBM has two phases:\n",
    "<ul>\n",
    "    <li>Forward Pass</li>  \n",
    "    <li>Backward Pass or Reconstruction</li>\n",
    "</ul>\n",
    "\n",
    "<b>Phase 1) Forward pass:</b>  \n",
    "\n",
    "Input one training sample (one image) $\\mathbf{x}$ through all visible nodes, and pass it to all hidden nodes. Processing happens in each node in the hidden layer. This computation begins by making stochastic decisions about whether to transmit that input or not (i.e. to determine the state of each hidden layer).  First, the probability vector is computed using the input feature vector $\\mathbf{x}$, the weight matrix $\\mathbf{W}$, and the bias term $h_{bias}$, as \n",
    "\n",
    "\n",
    "$$p({h_j}|\\mathbf x)= \\sigma( \\sum_{i=1}^V W_{ij} x_i + h_{bias} )$$, \n",
    "\n",
    "where $\\sigma(z) = (1+e^{-z})^{-1}$ is the logistic function.\n",
    "\n",
    "\n",
    "So, what does $p({h_j})$ represent? It is the <b>probability distribution</b> of the hidden units. That is, RBM uses inputs $x_i$ to make predictions about hidden node activations. For example, imagine that the hidden node activation values are [0.51 0.84] for the first training item. It tells you that the conditional probability for each hidden neuron for Phase 1 is: \n",
    "\n",
    "$$p(h_{1} = 1|\\mathbf{v}) = 0.51$$\n",
    "$$p(h_{2} = 1|\\mathbf{v}) = 0.84$$\n",
    "\n",
    "As a result, for each row in the training set, vector of probabilities is generated.  In TensorFlow, this is referred to as a `tensor` with a shape of (1,2). \n",
    "\n",
    "We then turn unit $j$ with probability $p(h_{j}|\\mathbf{v})$, and turn it off with probability $1 - p(h_{j}|\\mathbf{v})$ by generating a uniform random number vector $\\mathbf{\\xi}$, and comparing it to the activation probability as \n",
    "\n",
    "<center>If $\\xi_j>p(h_{j}|\\mathbf{v})$, then $h_j=1$, else $h_j=0$.</center>\n",
    "\n",
    "\n",
    "Therefore, the conditional probability of a configuration of $\\mathbf{h}$ given $\\mathbf{v}$ (for a training sample) is:\n",
    "\n",
    "$$p(\\mathbf{h} \\mid \\mathbf{v}) = \\prod_{j=1}^H p(h_j \\mid \\mathbf{v})$$\n",
    "\n",
    "\n",
    "where $H$ is the number of hidden units.\n",
    "\n"
   ]
  },
  {
   "cell_type": "markdown",
   "metadata": {},
   "source": [
    "Before we go further, let's look at a toy example for one case out of all input. Assume that we have a trained RBM, and a very simple input vector, such as [1.0, 0.0, 0.0, 1.0, 0.0, 0.0, 0.0].   \n",
    "Let's see what the output of forward pass would look like:\n"
   ]
  },
  {
   "cell_type": "code",
   "execution_count": 9,
   "metadata": {
    "tags": []
   },
   "outputs": [
    {
     "name": "stdout",
     "output_type": "stream",
     "text": [
      "Input:  tf.Tensor([[1. 0. 0. 1. 0. 0. 0.]], shape=(1, 7), dtype=float32)\n",
      "hb:  tf.Tensor([0.1 0.1], shape=(2,), dtype=float32)\n",
      "w:  tf.Tensor(\n",
      "[[ 0.5996735  -0.05560352]\n",
      " [-0.6915921  -0.05906965]\n",
      " [-1.0886375  -0.9275966 ]\n",
      " [ 1.5380158  -2.3886564 ]\n",
      " [ 1.9526705   0.35613483]\n",
      " [ 0.58536655 -1.2544587 ]\n",
      " [-1.0253972   0.1467561 ]], shape=(7, 2), dtype=float32)\n",
      "p(h|v):  tf.Tensor([[0.90358335 0.0875231 ]], shape=(1, 2), dtype=float32)\n",
      "h0 states: tf.Tensor([[1. 0.]], shape=(1, 2), dtype=float32)\n"
     ]
    }
   ],
   "source": [
    "X = tf.constant([[1.0, 0.0, 0.0, 1.0, 0.0, 0.0, 0.0]], tf.float32)\n",
    "\n",
    "v_state = X\n",
    "print(\"Input: \", v_state)\n",
    "\n",
    "h_bias = tf.constant([0.1, 0.1])\n",
    "print(\"hb: \", h_bias)\n",
    "print(\"w: \", W)\n",
    "\n",
    "# Calculate the probabilities of turning the hidden units on:\n",
    "h_prob = tf.nn.sigmoid(\n",
    "    tf.matmul(v_state, W) + h_bias\n",
    ")  # probabilities of the hidden units\n",
    "print(\"p(h|v): \", h_prob)\n",
    "\n",
    "# Draw samples from the distribution:\n",
    "h_state = tf.nn.relu(tf.sign(h_prob - tf.random.uniform(tf.shape(h_prob))))  # states\n",
    "print(\"h0 states:\", h_state)"
   ]
  },
  {
   "cell_type": "markdown",
   "metadata": {},
   "source": [
    "<b>Phase 2) Backward Pass (Reconstruction):</b>\n",
    "The RBM reconstructs data by making several forward and backward passes between the visible and hidden layers.\n",
    "\n",
    "So, in the second phase (i.e. reconstruction phase), the samples from the hidden layer (i.e. $\\mathbf h$) becomes the input in the backward pass. The same weight matrix and visible layer biases are used to passed to the sigmoid function. The reproduced output is a reconstruction which is an approximation of the original input.\n"
   ]
  },
  {
   "cell_type": "code",
   "execution_count": 10,
   "metadata": {
    "tags": []
   },
   "outputs": [
    {
     "name": "stdout",
     "output_type": "stream",
     "text": [
      "b:  tf.Tensor([0.1 0.2 0.1 0.1 0.1 0.2 0.1], shape=(7,), dtype=float32)\n",
      "p(vi∣h):  tf.Tensor(\n",
      "[[0.6681154  0.37951857 0.27118132 0.8372648  0.8862171  0.6868356\n",
      "  0.28385946]], shape=(1, 7), dtype=float32)\n",
      "v probability states:  tf.Tensor([[0. 0. 0. 1. 1. 1. 0.]], shape=(1, 7), dtype=float32)\n"
     ]
    }
   ],
   "source": [
    "vb = tf.constant([0.1, 0.2, 0.1, 0.1, 0.1, 0.2, 0.1])\n",
    "print(\"b: \", vb)\n",
    "v_prob = tf.nn.sigmoid(tf.matmul(h_state, tf.transpose(W)) + vb)\n",
    "print(\"p(vi∣h): \", v_prob)\n",
    "v_state = tf.nn.relu(tf.sign(v_prob - tf.random.uniform(tf.shape(v_prob))))\n",
    "print(\"v probability states: \", v_state)"
   ]
  },
  {
   "cell_type": "markdown",
   "metadata": {},
   "source": [
    "RBM learns a probability distribution over the input, and then, after being trained, the RBM can generate new samples from the learned probability distribution. As you know, <b>probability distribution</b>, is a mathematical function that provides the probabilities of occurrence of different possible outcomes in an experiment.\n",
    "\n",
    "The (conditional) probability distribution over the visible units v is given by\n",
    "\n",
    "$$p(\\mathbf{v} \\mid \\mathbf{h}) = \\prod_{i=1}^V p(v_i \\mid \\mathbf{h}),$$\n",
    "\n",
    "\n",
    "where,\n",
    "\n",
    "$$p(v_i \\mid \\mathbf{h}) = \\sigma\\left(\\sum_{j=1}^H W_{ji} h_j + v_{bias} \\right)$$\n",
    "\n",
    "so, given current state of hidden units and weights, what is the probability of generating [1. 0. 0. 1. 0. 0. 0.] in reconstruction phase, based on the above <b>probability distribution</b> function?\n"
   ]
  },
  {
   "cell_type": "code",
   "execution_count": 11,
   "metadata": {
    "tags": []
   },
   "outputs": [
    {
     "name": "stdout",
     "output_type": "stream",
     "text": [
      "input X: [[1. 0. 0. 1. 0. 0. 0.]]\n",
      "probablity vector: [0.6681154  0.37951857 0.27118132 0.8372648  0.8862171  0.6868356\n",
      " 0.28385946]\n",
      "probability of generating X:  0.006455206\n"
     ]
    }
   ],
   "source": [
    "inp = X\n",
    "print(\"input X:\", inp.numpy())\n",
    "\n",
    "print(\"probablity vector:\", v_prob[0].numpy())\n",
    "v_probability = 1\n",
    "\n",
    "for elm, p in zip(inp[0], v_prob[0]):\n",
    "    if elm == 1:\n",
    "        v_probability *= p\n",
    "    else:\n",
    "        v_probability *= 1 - p\n",
    "\n",
    "print(\"probability of generating X: \", v_probability.numpy())"
   ]
  },
  {
   "cell_type": "markdown",
   "metadata": {},
   "source": [
    "How similar are vectors $\\mathbf{x}$ and $\\mathbf{v}$? Of course, the reconstructed values most likely will not look anything like the input vector, because our network has not been trained yet. Our objective is to train the model in such a way that the input vector and reconstructed vector to be same. Therefore, based on how different the input values look to the ones that we just reconstructed, the weights are adjusted. \n"
   ]
  },
  {
   "cell_type": "markdown",
   "metadata": {},
   "source": [
    "<hr>\n"
   ]
  },
  {
   "cell_type": "markdown",
   "metadata": {},
   "source": [
    "\n",
    "<h2>MNIST</h2>\n"
   ]
  },
  {
   "cell_type": "markdown",
   "metadata": {},
   "source": [
    "We will be using the MNIST dataset to practice the usage of RBMs. The following cell loads the MNIST dataset.\n"
   ]
  },
  {
   "cell_type": "code",
   "execution_count": 12,
   "metadata": {
    "tags": []
   },
   "outputs": [
    {
     "name": "stdout",
     "output_type": "stream",
     "text": [
      "Downloading data from https://storage.googleapis.com/tensorflow/tf-keras-datasets/mnist.npz\n",
      "11490434/11490434 [==============================] - 0s 0us/step\n"
     ]
    }
   ],
   "source": [
    "# loading training and test data\n",
    "mnist = tf.keras.datasets.mnist\n",
    "(trX, trY), (teX, teY) = mnist.load_data()\n",
    "\n",
    "# showing an example of the Flatten class and operation\n",
    "from tensorflow.keras.layers import Flatten\n",
    "\n",
    "flatten = Flatten(dtype=\"float32\")\n",
    "trX = flatten(trX / 255.0)\n",
    "trY = flatten(trY / 255.0)"
   ]
  },
  {
   "cell_type": "markdown",
   "metadata": {},
   "source": [
    "Lets look at the dimension of the images.\n"
   ]
  },
  {
   "cell_type": "markdown",
   "metadata": {},
   "source": [
    "MNIST images have 784 pixels, so the visible layer must have 784 input nodes.  For our case, we'll use 50 nodes in the hidden layer, so i = 50.\n"
   ]
  },
  {
   "cell_type": "code",
   "execution_count": 13,
   "metadata": {
    "tags": []
   },
   "outputs": [],
   "source": [
    "vb = tf.Variable(tf.zeros([784]), tf.float32)\n",
    "hb = tf.Variable(tf.zeros([50]), tf.float32)"
   ]
  },
  {
   "cell_type": "markdown",
   "metadata": {},
   "source": [
    "Let $\\mathbf W$ be the Tensor of 784x50 (784 - number of visible neurons, 50 - number of hidden neurons) that represents weights between the neurons. \n"
   ]
  },
  {
   "cell_type": "code",
   "execution_count": 14,
   "metadata": {
    "tags": []
   },
   "outputs": [],
   "source": [
    "W = tf.Variable(tf.zeros([784, 50]), tf.float32)"
   ]
  },
  {
   "cell_type": "markdown",
   "metadata": {},
   "source": [
    "Lets define the visible layer:\n"
   ]
  },
  {
   "cell_type": "code",
   "execution_count": 15,
   "metadata": {
    "tags": []
   },
   "outputs": [
    {
     "data": {
      "text/plain": [
       "<tf.Tensor: shape=(1, 50), dtype=float32, numpy=\n",
       "array([[0., 0., 0., 0., 0., 0., 0., 0., 0., 0., 0., 0., 0., 0., 0., 0.,\n",
       "        0., 0., 0., 0., 0., 0., 0., 0., 0., 0., 0., 0., 0., 0., 0., 0.,\n",
       "        0., 0., 0., 0., 0., 0., 0., 0., 0., 0., 0., 0., 0., 0., 0., 0.,\n",
       "        0., 0.]], dtype=float32)>"
      ]
     },
     "execution_count": 15,
     "metadata": {},
     "output_type": "execute_result"
    }
   ],
   "source": [
    "v0_state = tf.Variable(tf.zeros([784]), tf.float32)\n",
    "\n",
    "# testing to see if the matrix product works\n",
    "tf.matmul([v0_state], W)"
   ]
  },
  {
   "cell_type": "markdown",
   "metadata": {},
   "source": [
    "Now, we can define hidden layer:\n"
   ]
  },
  {
   "cell_type": "code",
   "execution_count": 16,
   "metadata": {
    "tags": []
   },
   "outputs": [
    {
     "name": "stdout",
     "output_type": "stream",
     "text": [
      "h0_state shape:  tf.Tensor([ 1 50], shape=(2,), dtype=int32)\n",
      "first 15 hidden states:  tf.Tensor([0. 1. 1. 0. 1. 1. 1. 1. 1. 1. 1. 0. 1. 1. 1.], shape=(15,), dtype=float32)\n"
     ]
    }
   ],
   "source": [
    "# computing the hidden nodes probability vector and checking shape\n",
    "h0_prob = tf.nn.sigmoid(\n",
    "    tf.matmul([v0_state], W) + hb\n",
    ")  # probabilities of the hidden units\n",
    "print(\"h0_state shape: \", tf.shape(h0_prob))\n",
    "\n",
    "\n",
    "# defining a function to return only the generated hidden states\n",
    "def hidden_layer(v0_state, W, hb):\n",
    "    h0_prob = tf.nn.sigmoid(\n",
    "        tf.matmul([v0_state], W) + hb\n",
    "    )  # probabilities of the hidden units\n",
    "    h0_state = tf.nn.relu(\n",
    "        tf.sign(h0_prob - tf.random.uniform(tf.shape(h0_prob)))\n",
    "    )  # sample_h_given_X\n",
    "    return h0_state\n",
    "\n",
    "\n",
    "h0_state = hidden_layer(v0_state, W, hb)\n",
    "print(\"first 15 hidden states: \", h0_state[0][0:15])"
   ]
  },
  {
   "cell_type": "markdown",
   "metadata": {},
   "source": [
    "Now, we define reconstruction part:\n"
   ]
  },
  {
   "cell_type": "code",
   "execution_count": 17,
   "metadata": {
    "tags": []
   },
   "outputs": [
    {
     "name": "stdout",
     "output_type": "stream",
     "text": [
      "hidden state shape:  (1, 50)\n",
      "v0 state shape:   (784,)\n",
      "v1 state shape:   (784,)\n"
     ]
    }
   ],
   "source": [
    "def reconstructed_output(h0_state, W, vb):\n",
    "    v1_prob = tf.nn.sigmoid(tf.matmul(h0_state, tf.transpose(W)) + vb)\n",
    "    v1_state = tf.nn.relu(\n",
    "        tf.sign(v1_prob - tf.random.uniform(tf.shape(v1_prob)))\n",
    "    )  # sample_v_given_h\n",
    "    return v1_state[0]\n",
    "\n",
    "\n",
    "v1_state = reconstructed_output(h0_state, W, vb)\n",
    "print(\"hidden state shape: \", h0_state.shape)\n",
    "print(\"v0 state shape:  \", v0_state.shape)\n",
    "print(\"v1 state shape:  \", v1_state.shape)"
   ]
  },
  {
   "cell_type": "markdown",
   "metadata": {},
   "source": [
    "<h3>What is the objective function?</h3>\n",
    "\n",
    "<b>Goal</b>: Maximize the likelihood of our data being drawn from that distribution\n",
    "\n",
    "<b>Calculate error:</b>  \n",
    "In each epoch, we compute the \"error\" as a sum of the squared difference between step 1 and step n,\n",
    "e.g the error shows the difference between the data and its reconstruction.\n",
    "\n",
    "<b>Note:</b> tf.reduce_mean computes the mean of elements across dimensions of a tensor.\n"
   ]
  },
  {
   "cell_type": "code",
   "execution_count": 18,
   "metadata": {
    "tags": []
   },
   "outputs": [
    {
     "name": "stdout",
     "output_type": "stream",
     "text": [
      "error 0.49489796\n"
     ]
    }
   ],
   "source": [
    "def error(v0_state, v1_state):\n",
    "    return tf.reduce_mean(tf.square(v0_state - v1_state))\n",
    "\n",
    "\n",
    "err = tf.reduce_mean(tf.square(v0_state - v1_state))\n",
    "print(\"error\", err.numpy())"
   ]
  },
  {
   "cell_type": "markdown",
   "metadata": {},
   "source": [
    "<a id=\"ref4\"></a>\n",
    "<h3>Training the Model</h3>\n",
    "<b>Warning...</b> The following part is math-heavy, but you can skip it if you just want to run the cells in the next section.\n",
    "\n",
    "As mentioned, we want to give a high probability to the input data we train on. So, in order to train an RBM, we have to maximize the product of probabilities assigned to all rows $\\mathbf{v}$ (images) in the training set $\\mathbf{V}$ (a matrix, where each row of it is treated as a visible vector $\\mathbf{v}$)\n",
    "\n",
    "$$\\arg \\max_W \\prod_{\\mathbf{v}\\in\\mathbf{V}_T} p(\\mathbf{v})$$\n",
    "\n",
    "\n",
    "which is equivalent to maximizing the expectation of the log probability, given as\n",
    "\n",
    "$$\\arg\\max_W\\left[ \\mathbb{E} \\left(\\prod_{\\mathbf v\\in \\mathbf V}\\text{log} \\left(p(\\mathbf v)\\right) \\right) \\right].$$\n",
    "\n",
    "\n",
    "So, we have to update the weights $W_{ij}$  to increase $p(\\mathbf{v})$ for all $\\mathbf{v}$ in our training data during training. So we have to calculate the derivative:\n",
    "\n",
    "\n",
    "$$\\frac{\\partial \\log p(\\mathbf v)}{\\partial W_{ij}}$$\n",
    "\n",
    "This cannot be easily done by typical <b>gradient descent (SGD)</b>, so we can use another approach, which has 2 steps:\n",
    "<ol>\n",
    "    <li>Gibbs Sampling</li>\n",
    "    <li>Contrastive Divergence</li>\n",
    "</ol>    \n",
    "    \n",
    "<h3>Gibbs Sampling</h3>   \n",
    "\n",
    "<h4>Gibbs Sampling Step 1</h4> \n",
    "Given an input vector $\\mathbf{v}$, we are using $p(\\mathbf{h}|\\mathbf{v})$ to predict the hidden values $\\mathbf{h}$. \n",
    "  $$p({h_j}|\\mathbf v)= \\sigma\\left(\\sum_{i=1}^V W_{ij} v_i + h_{bias} \\right)$$\n",
    "The samples are generated from this distribution by generating the uniform random variate vector $\\mathbf{\\xi} \\sim U[0,1]$ of length $H$ and comparing to the computed probabilities as\n",
    "\n",
    "\n",
    "<center>If $\\xi_j>p(h_{j}|\\mathbf{v})$, then $h_j=1$, else $h_j=0$.</center>\n",
    "\n",
    "\n",
    "<h4>Gibbs Sampling Step 2</h4> \n",
    "Then, knowing the hidden values, we use $p(\\mathbf v| \\mathbf h)$ for reconstructing of new input values v. \n",
    "\n",
    "   $$p({v_i}|\\mathbf h)= \\sigma\\left(\\sum_{j=1}^H W^{T}_{ij} h_j + v_{bias} \\right)$$\n",
    "\n",
    "\n",
    "The samples are generated from this distribution by generating a uniform random variate vector $\\mathbf{\\xi} \\sim U[0,1]$ of length $V$ and comparing to the computed probabilities as\n",
    "\n",
    "<center>If $\\xi_i>p(v_{i}|\\mathbf{h})$, then $v_i=1$, else $v_i=0$.</center>\n",
    "\n",
    "Let vectors $\\mathbf v_k$ and $\\mathbf h_k$ be for the $k$th iteration.  In general, the $kth$ state is generrated as: \n",
    "\n",
    "\n",
    "    \n",
    "<b>Iteration</b> $k$: \n",
    "\n",
    "$$\\mathbf v_{k-1} \\Rightarrow p(\\mathbf h_{k-1}|\\mathbf v_{k-1})\\Rightarrow \\mathbf h_{k-1}\\Rightarrow p(\\mathbf v_{k}|\\mathbf h_{k-1})\\Rightarrow \\mathbf v_k$$       \n",
    "    \n",
    "<h3>Contrastive Divergence (CD-k)</h3>\n",
    "The update of the weight matrix is done during the Contrastive Divergence step. \n",
    "\n",
    "Vectors v0 and vk are used to calculate the activation probabilities for hidden values h0 and hk. The difference between the outer products of those probabilities with input vectors v0 and vk results in the update matrix:\n",
    "\n",
    "\n",
    "$$\\Delta \\mathbf W_k =\\mathbf v_k \\otimes \\mathbf h_k - \\mathbf v_{k-1} \\otimes \\mathbf h_{k-1}$$\n",
    "\n",
    "Contrastive Divergence is actually matrix of values that is computed and used to adjust values of the $\\mathbf W$ matrix. Changing $\\mathbf W$ incrementally leads to training of the  $\\mathbf W$ values. Then, on each step (epoch), $\\mathbf W$ is updated using the following:\n",
    "\n",
    "$$\\mathbf W_k = \\mathbf W_{k-1} + \\alpha * \\Delta \\mathbf W_k$$\n",
    "\n",
    "\n",
    "\n",
    "Reconstruction steps:\n",
    "<ul>\n",
    "    <li> Get one data point from data set, like <i>x</i>, and pass it through the following steps:</li>\n",
    "    \n",
    "<b>Iteration</b> $k=1$: \n",
    "    \n",
    "Sampling (starting with input image)\n",
    "    $$\\mathbf x = \\mathbf v_0 \\Rightarrow p(\\mathbf h_0|\\mathbf v_0)\\Rightarrow \\mathbf h_0 \\Rightarrow p(\\mathbf v_1|\\mathbf h_0)\\Rightarrow \\mathbf v_1$$   \n",
    "    followed by the CD-k step\n",
    "$$\\Delta \\mathbf W_1 =\\mathbf v_1 \\otimes \\mathbf h_1 - \\mathbf v_{0} \\otimes \\mathbf h_{0}$$     \n",
    "$$\\mathbf W_1 = \\mathbf W_{0} + \\alpha * \\Delta \\mathbf W_1$$ \n",
    " \n",
    "<li> $\\mathbf v_1$ is the reconstruction of $\\mathbf x$ sent to the next iteration).</li>\n",
    "\n",
    "<b>Iteration</b> $k=2$: \n",
    "\n",
    "Sampling (starting with $\\mathbf v_1$)\n",
    "\n",
    "$$\\mathbf v_1 \\Rightarrow p(\\mathbf h_1|\\mathbf v_1)\\Rightarrow \\mathbf h_1\\Rightarrow p(\\mathbf v_2|\\mathbf h_1)\\Rightarrow \\mathbf v_2$$   \n",
    "\n",
    "followed by the CD-k step\n",
    "$$\\Delta \\mathbf W_2 =\\mathbf v_2 \\otimes \\mathbf h_2 - \\mathbf v_{1} \\otimes \\mathbf h_{1}$$     \n",
    "$$\\mathbf W_2 = \\mathbf W_{1} + \\alpha * \\Delta \\mathbf W_2$$ \n",
    "\n",
    "<li> $\\mathbf v_2$ is the reconstruction of $\\mathbf v_1$ sent to the next iteration).</li>    \n",
    "      \n",
    "<b>Iteration</b> $k=K$:\n",
    "    \n",
    "Sampling (starting with $\\mathbf v_{K-1}$)\n",
    "\n",
    "$$\\mathbf v_{K-1} \\Rightarrow p(\\mathbf h_{K-1}|\\mathbf v_{K-1})\\Rightarrow \\mathbf h_{K-1}\\Rightarrow p(\\mathbf v_K|\\mathbf h_{K-1})\\Rightarrow \\mathbf v_K$$   \n",
    "\n",
    "followed by the CD-k step\n",
    "$$\\Delta \\mathbf W_K =\\mathbf v_K \\otimes \\mathbf h_K - \\mathbf v_{K-1} \\otimes \\mathbf h_{K-1}$$     \n",
    "$$\\mathbf W_K = \\mathbf W_{K-1} + \\alpha * \\Delta \\mathbf W_K$$ \n",
    "    \n",
    "<b>What is $\\alpha$?</b>  \n",
    "Here, alpha is some small step size, and is also known as the \"learning rate\".\n"
   ]
  },
  {
   "cell_type": "markdown",
   "metadata": {},
   "source": [
    "$K$ is adjustable, and good performance can be achieved with $K=1$, so that we just take one set of sampling steps per image.\n"
   ]
  },
  {
   "cell_type": "code",
   "execution_count": 19,
   "metadata": {
    "tags": []
   },
   "outputs": [],
   "source": [
    "h1_prob = tf.nn.sigmoid(tf.matmul([v1_state], W) + hb)\n",
    "h1_state = tf.nn.relu(\n",
    "    tf.sign(h1_prob - tf.random.uniform(tf.shape(h1_prob)))\n",
    ")  # sample_h_given_X"
   ]
  },
  {
   "cell_type": "markdown",
   "metadata": {},
   "source": [
    "Lets look at the error of the first run:\n"
   ]
  },
  {
   "cell_type": "code",
   "execution_count": 20,
   "metadata": {
    "tags": []
   },
   "outputs": [
    {
     "name": "stdout",
     "output_type": "stream",
     "text": [
      "error:  tf.Tensor(0.49489796, shape=(), dtype=float32)\n"
     ]
    }
   ],
   "source": [
    "print(\"error: \", error(v0_state, v1_state))"
   ]
  },
  {
   "cell_type": "code",
   "execution_count": 21,
   "metadata": {
    "tags": []
   },
   "outputs": [
    {
     "name": "stdout",
     "output_type": "stream",
     "text": [
      "Epoch: 0 batch #: 1  of 300 sample #: 199 reconstruction error: 0.181975\n",
      "Epoch: 0 batch #: 2  of 300 sample #: 199 reconstruction error: 0.208626\n",
      "Epoch: 0 batch #: 3  of 300 sample #: 199 reconstruction error: 0.120660\n",
      "Epoch: 0 batch #: 4  of 300 sample #: 199 reconstruction error: 0.149616\n",
      "Epoch: 0 batch #: 5  of 300 sample #: 199 reconstruction error: 0.119501\n",
      "Epoch: 0 batch #: 6  of 300 sample #: 199 reconstruction error: 0.173209\n",
      "Epoch: 0 batch #: 7  of 300 sample #: 199 reconstruction error: 0.109282\n",
      "Epoch: 0 batch #: 8  of 300 sample #: 199 reconstruction error: 0.106594\n",
      "Epoch: 0 batch #: 9  of 300 sample #: 199 reconstruction error: 0.108080\n",
      "Epoch: 0 batch #: 10  of 300 sample #: 199 reconstruction error: 0.166382\n",
      "Epoch: 0 batch #: 11  of 300 sample #: 199 reconstruction error: 0.092896\n",
      "Epoch: 0 batch #: 12  of 300 sample #: 199 reconstruction error: 0.134280\n",
      "Epoch: 0 batch #: 13  of 300 sample #: 199 reconstruction error: 0.057566\n",
      "Epoch: 0 batch #: 14  of 300 sample #: 199 reconstruction error: 0.111021\n",
      "Epoch: 0 batch #: 15  of 300 sample #: 199 reconstruction error: 0.078572\n",
      "Epoch: 0 batch #: 16  of 300 sample #: 199 reconstruction error: 0.121093\n",
      "Epoch: 0 batch #: 17  of 300 sample #: 199 reconstruction error: 0.067324\n",
      "Epoch: 0 batch #: 18  of 300 sample #: 199 reconstruction error: 0.133005\n",
      "Epoch: 0 batch #: 19  of 300 sample #: 199 reconstruction error: 0.128646\n",
      "Epoch: 0 batch #: 20  of 300 sample #: 199 reconstruction error: 0.095333\n",
      "Epoch: 0 batch #: 21  of 300 sample #: 199 reconstruction error: 0.090804\n",
      "Epoch: 0 batch #: 22  of 300 sample #: 199 reconstruction error: 0.087108\n",
      "Epoch: 0 batch #: 23  of 300 sample #: 199 reconstruction error: 0.103017\n",
      "Epoch: 0 batch #: 24  of 300 sample #: 199 reconstruction error: 0.123253\n",
      "Epoch: 0 batch #: 25  of 300 sample #: 199 reconstruction error: 0.090236\n",
      "Epoch: 0 batch #: 26  of 300 sample #: 199 reconstruction error: 0.104864\n",
      "Epoch: 0 batch #: 27  of 300 sample #: 199 reconstruction error: 0.100345\n",
      "Epoch: 0 batch #: 28  of 300 sample #: 199 reconstruction error: 0.092499\n",
      "Epoch: 0 batch #: 29  of 300 sample #: 199 reconstruction error: 0.112906\n",
      "Epoch: 0 batch #: 30  of 300 sample #: 199 reconstruction error: 0.079730\n",
      "Epoch: 0 batch #: 31  of 300 sample #: 199 reconstruction error: 0.091839\n",
      "Epoch: 0 batch #: 32  of 300 sample #: 199 reconstruction error: 0.114417\n",
      "Epoch: 0 batch #: 33  of 300 sample #: 199 reconstruction error: 0.068346\n",
      "Epoch: 0 batch #: 34  of 300 sample #: 199 reconstruction error: 0.066422\n",
      "Epoch: 0 batch #: 35  of 300 sample #: 199 reconstruction error: 0.071504\n",
      "Epoch: 0 batch #: 36  of 300 sample #: 199 reconstruction error: 0.062830\n",
      "Epoch: 0 batch #: 37  of 300 sample #: 199 reconstruction error: 0.058612\n",
      "Epoch: 0 batch #: 38  of 300 sample #: 199 reconstruction error: 0.056177\n",
      "Epoch: 0 batch #: 39  of 300 sample #: 199 reconstruction error: 0.092002\n",
      "Epoch: 0 batch #: 40  of 300 sample #: 199 reconstruction error: 0.121203\n",
      "Epoch: 0 batch #: 41  of 300 sample #: 199 reconstruction error: 0.093769\n",
      "Epoch: 0 batch #: 42  of 300 sample #: 199 reconstruction error: 0.071237\n",
      "Epoch: 0 batch #: 43  of 300 sample #: 199 reconstruction error: 0.112874\n",
      "Epoch: 0 batch #: 44  of 300 sample #: 199 reconstruction error: 0.076022\n",
      "Epoch: 0 batch #: 45  of 300 sample #: 199 reconstruction error: 0.055165\n",
      "Epoch: 0 batch #: 46  of 300 sample #: 199 reconstruction error: 0.027440\n",
      "Epoch: 0 batch #: 47  of 300 sample #: 199 reconstruction error: 0.040385\n",
      "Epoch: 0 batch #: 48  of 300 sample #: 199 reconstruction error: 0.029757\n",
      "Epoch: 0 batch #: 49  of 300 sample #: 199 reconstruction error: 0.111303\n",
      "Epoch: 0 batch #: 50  of 300 sample #: 199 reconstruction error: 0.059696\n",
      "Epoch: 0 batch #: 51  of 300 sample #: 199 reconstruction error: 0.050701\n",
      "Epoch: 0 batch #: 52  of 300 sample #: 199 reconstruction error: 0.019374\n",
      "Epoch: 0 batch #: 53  of 300 sample #: 199 reconstruction error: 0.103886\n",
      "Epoch: 0 batch #: 54  of 300 sample #: 199 reconstruction error: 0.054155\n",
      "Epoch: 0 batch #: 55  of 300 sample #: 199 reconstruction error: 0.092863\n",
      "Epoch: 0 batch #: 56  of 300 sample #: 199 reconstruction error: 0.060732\n",
      "Epoch: 0 batch #: 57  of 300 sample #: 199 reconstruction error: 0.052111\n",
      "Epoch: 0 batch #: 58  of 300 sample #: 199 reconstruction error: 0.064653\n",
      "Epoch: 0 batch #: 59  of 300 sample #: 199 reconstruction error: 0.048813\n",
      "Epoch: 0 batch #: 60  of 300 sample #: 199 reconstruction error: 0.092904\n",
      "Epoch: 0 batch #: 61  of 300 sample #: 199 reconstruction error: 0.057453\n",
      "Epoch: 0 batch #: 62  of 300 sample #: 199 reconstruction error: 0.083925\n",
      "Epoch: 0 batch #: 63  of 300 sample #: 199 reconstruction error: 0.058712\n",
      "Epoch: 0 batch #: 64  of 300 sample #: 199 reconstruction error: 0.084457\n",
      "Epoch: 0 batch #: 65  of 300 sample #: 199 reconstruction error: 0.078607\n",
      "Epoch: 0 batch #: 66  of 300 sample #: 199 reconstruction error: 0.055584\n",
      "Epoch: 0 batch #: 67  of 300 sample #: 199 reconstruction error: 0.056888\n",
      "Epoch: 0 batch #: 68  of 300 sample #: 199 reconstruction error: 0.053549\n",
      "Epoch: 0 batch #: 69  of 300 sample #: 199 reconstruction error: 0.093766\n",
      "Epoch: 0 batch #: 70  of 300 sample #: 199 reconstruction error: 0.090671\n",
      "Epoch: 0 batch #: 71  of 300 sample #: 199 reconstruction error: 0.083113\n",
      "Epoch: 0 batch #: 72  of 300 sample #: 199 reconstruction error: 0.072215\n",
      "Epoch: 0 batch #: 73  of 300 sample #: 199 reconstruction error: 0.096953\n",
      "Epoch: 0 batch #: 74  of 300 sample #: 199 reconstruction error: 0.095324\n",
      "Epoch: 0 batch #: 75  of 300 sample #: 199 reconstruction error: 0.042345\n",
      "Epoch: 0 batch #: 76  of 300 sample #: 199 reconstruction error: 0.082803\n",
      "Epoch: 0 batch #: 77  of 300 sample #: 199 reconstruction error: 0.113744\n",
      "Epoch: 0 batch #: 78  of 300 sample #: 199 reconstruction error: 0.105150\n",
      "Epoch: 0 batch #: 79  of 300 sample #: 199 reconstruction error: 0.108492\n",
      "Epoch: 0 batch #: 80  of 300 sample #: 199 reconstruction error: 0.040119\n",
      "Epoch: 0 batch #: 81  of 300 sample #: 199 reconstruction error: 0.057607\n",
      "Epoch: 0 batch #: 82  of 300 sample #: 199 reconstruction error: 0.053185\n",
      "Epoch: 0 batch #: 83  of 300 sample #: 199 reconstruction error: 0.080952\n",
      "Epoch: 0 batch #: 84  of 300 sample #: 199 reconstruction error: 0.091593\n",
      "Epoch: 0 batch #: 85  of 300 sample #: 199 reconstruction error: 0.048949\n",
      "Epoch: 0 batch #: 86  of 300 sample #: 199 reconstruction error: 0.085149\n",
      "Epoch: 0 batch #: 87  of 300 sample #: 199 reconstruction error: 0.072204\n",
      "Epoch: 0 batch #: 88  of 300 sample #: 199 reconstruction error: 0.025746\n",
      "Epoch: 0 batch #: 89  of 300 sample #: 199 reconstruction error: 0.046133\n",
      "Epoch: 0 batch #: 90  of 300 sample #: 199 reconstruction error: 0.065511\n",
      "Epoch: 0 batch #: 91  of 300 sample #: 199 reconstruction error: 0.064873\n",
      "Epoch: 0 batch #: 92  of 300 sample #: 199 reconstruction error: 0.072856\n",
      "Epoch: 0 batch #: 93  of 300 sample #: 199 reconstruction error: 0.123976\n",
      "Epoch: 0 batch #: 94  of 300 sample #: 199 reconstruction error: 0.109388\n",
      "Epoch: 0 batch #: 95  of 300 sample #: 199 reconstruction error: 0.073203\n",
      "Epoch: 0 batch #: 96  of 300 sample #: 199 reconstruction error: 0.044757\n",
      "Epoch: 0 batch #: 97  of 300 sample #: 199 reconstruction error: 0.106075\n",
      "Epoch: 0 batch #: 98  of 300 sample #: 199 reconstruction error: 0.091115\n",
      "Epoch: 0 batch #: 99  of 300 sample #: 199 reconstruction error: 0.063303\n",
      "Epoch: 0 batch #: 100  of 300 sample #: 199 reconstruction error: 0.100174\n",
      "Epoch: 0 batch #: 101  of 300 sample #: 199 reconstruction error: 0.078929\n",
      "Epoch: 0 batch #: 102  of 300 sample #: 199 reconstruction error: 0.085403\n",
      "Epoch: 0 batch #: 103  of 300 sample #: 199 reconstruction error: 0.083336\n",
      "Epoch: 0 batch #: 104  of 300 sample #: 199 reconstruction error: 0.074119\n",
      "Epoch: 0 batch #: 105  of 300 sample #: 199 reconstruction error: 0.061266\n",
      "Epoch: 0 batch #: 106  of 300 sample #: 199 reconstruction error: 0.126405\n",
      "Epoch: 0 batch #: 107  of 300 sample #: 199 reconstruction error: 0.131400\n",
      "Epoch: 0 batch #: 108  of 300 sample #: 199 reconstruction error: 0.072698\n",
      "Epoch: 0 batch #: 109  of 300 sample #: 199 reconstruction error: 0.107754\n",
      "Epoch: 0 batch #: 110  of 300 sample #: 199 reconstruction error: 0.055800\n",
      "Epoch: 0 batch #: 111  of 300 sample #: 199 reconstruction error: 0.109135\n",
      "Epoch: 0 batch #: 112  of 300 sample #: 199 reconstruction error: 0.044972\n",
      "Epoch: 0 batch #: 113  of 300 sample #: 199 reconstruction error: 0.074034\n",
      "Epoch: 0 batch #: 114  of 300 sample #: 199 reconstruction error: 0.078696\n",
      "Epoch: 0 batch #: 115  of 300 sample #: 199 reconstruction error: 0.062917\n",
      "Epoch: 0 batch #: 116  of 300 sample #: 199 reconstruction error: 0.051520\n",
      "Epoch: 0 batch #: 117  of 300 sample #: 199 reconstruction error: 0.044573\n",
      "Epoch: 0 batch #: 118  of 300 sample #: 199 reconstruction error: 0.078042\n",
      "Epoch: 0 batch #: 119  of 300 sample #: 199 reconstruction error: 0.125089\n",
      "Epoch: 0 batch #: 120  of 300 sample #: 199 reconstruction error: 0.085025\n",
      "Epoch: 0 batch #: 121  of 300 sample #: 199 reconstruction error: 0.036185\n",
      "Epoch: 0 batch #: 122  of 300 sample #: 199 reconstruction error: 0.090463\n",
      "Epoch: 0 batch #: 123  of 300 sample #: 199 reconstruction error: 0.064918\n",
      "Epoch: 0 batch #: 124  of 300 sample #: 199 reconstruction error: 0.067091\n",
      "Epoch: 0 batch #: 125  of 300 sample #: 199 reconstruction error: 0.041370\n",
      "Epoch: 0 batch #: 126  of 300 sample #: 199 reconstruction error: 0.079715\n",
      "Epoch: 0 batch #: 127  of 300 sample #: 199 reconstruction error: 0.093986\n",
      "Epoch: 0 batch #: 128  of 300 sample #: 199 reconstruction error: 0.060033\n",
      "Epoch: 0 batch #: 129  of 300 sample #: 199 reconstruction error: 0.050425\n",
      "Epoch: 0 batch #: 130  of 300 sample #: 199 reconstruction error: 0.088814\n",
      "Epoch: 0 batch #: 131  of 300 sample #: 199 reconstruction error: 0.061131\n",
      "Epoch: 0 batch #: 132  of 300 sample #: 199 reconstruction error: 0.053619\n",
      "Epoch: 0 batch #: 133  of 300 sample #: 199 reconstruction error: 0.060532\n",
      "Epoch: 0 batch #: 134  of 300 sample #: 199 reconstruction error: 0.119507\n",
      "Epoch: 0 batch #: 135  of 300 sample #: 199 reconstruction error: 0.085135\n",
      "Epoch: 0 batch #: 136  of 300 sample #: 199 reconstruction error: 0.106451\n",
      "Epoch: 0 batch #: 137  of 300 sample #: 199 reconstruction error: 0.061813\n",
      "Epoch: 0 batch #: 138  of 300 sample #: 199 reconstruction error: 0.067465\n",
      "Epoch: 0 batch #: 139  of 300 sample #: 199 reconstruction error: 0.108554\n",
      "Epoch: 0 batch #: 140  of 300 sample #: 199 reconstruction error: 0.063961\n",
      "Epoch: 0 batch #: 141  of 300 sample #: 199 reconstruction error: 0.105019\n",
      "Epoch: 0 batch #: 142  of 300 sample #: 199 reconstruction error: 0.060275\n",
      "Epoch: 0 batch #: 143  of 300 sample #: 199 reconstruction error: 0.061738\n",
      "Epoch: 0 batch #: 144  of 300 sample #: 199 reconstruction error: 0.066808\n",
      "Epoch: 0 batch #: 145  of 300 sample #: 199 reconstruction error: 0.097038\n",
      "Epoch: 0 batch #: 146  of 300 sample #: 199 reconstruction error: 0.131601\n",
      "Epoch: 0 batch #: 147  of 300 sample #: 199 reconstruction error: 0.064763\n",
      "Epoch: 0 batch #: 148  of 300 sample #: 199 reconstruction error: 0.086609\n",
      "Epoch: 0 batch #: 149  of 300 sample #: 199 reconstruction error: 0.047023\n",
      "Epoch: 0 batch #: 150  of 300 sample #: 199 reconstruction error: 0.035216\n",
      "Epoch: 0 batch #: 151  of 300 sample #: 199 reconstruction error: 0.092891\n",
      "Epoch: 0 batch #: 152  of 300 sample #: 199 reconstruction error: 0.088406\n",
      "Epoch: 0 batch #: 153  of 300 sample #: 199 reconstruction error: 0.063403\n",
      "Epoch: 0 batch #: 154  of 300 sample #: 199 reconstruction error: 0.079615\n",
      "Epoch: 0 batch #: 155  of 300 sample #: 199 reconstruction error: 0.069110\n",
      "Epoch: 0 batch #: 156  of 300 sample #: 199 reconstruction error: 0.062857\n",
      "Epoch: 0 batch #: 157  of 300 sample #: 199 reconstruction error: 0.078043\n",
      "Epoch: 0 batch #: 158  of 300 sample #: 199 reconstruction error: 0.065698\n",
      "Epoch: 0 batch #: 159  of 300 sample #: 199 reconstruction error: 0.064253\n",
      "Epoch: 0 batch #: 160  of 300 sample #: 199 reconstruction error: 0.067957\n",
      "Epoch: 0 batch #: 161  of 300 sample #: 199 reconstruction error: 0.081619\n",
      "Epoch: 0 batch #: 162  of 300 sample #: 199 reconstruction error: 0.111643\n",
      "Epoch: 0 batch #: 163  of 300 sample #: 199 reconstruction error: 0.038226\n",
      "Epoch: 0 batch #: 164  of 300 sample #: 199 reconstruction error: 0.058547\n",
      "Epoch: 0 batch #: 165  of 300 sample #: 199 reconstruction error: 0.098222\n",
      "Epoch: 0 batch #: 166  of 300 sample #: 199 reconstruction error: 0.056404\n",
      "Epoch: 0 batch #: 167  of 300 sample #: 199 reconstruction error: 0.077351\n",
      "Epoch: 0 batch #: 168  of 300 sample #: 199 reconstruction error: 0.056284\n",
      "Epoch: 0 batch #: 169  of 300 sample #: 199 reconstruction error: 0.041078\n",
      "Epoch: 0 batch #: 170  of 300 sample #: 199 reconstruction error: 0.062790\n",
      "Epoch: 0 batch #: 171  of 300 sample #: 199 reconstruction error: 0.030000\n",
      "Epoch: 0 batch #: 172  of 300 sample #: 199 reconstruction error: 0.036336\n",
      "Epoch: 0 batch #: 173  of 300 sample #: 199 reconstruction error: 0.063680\n",
      "Epoch: 0 batch #: 174  of 300 sample #: 199 reconstruction error: 0.110204\n",
      "Epoch: 0 batch #: 175  of 300 sample #: 199 reconstruction error: 0.067811\n",
      "Epoch: 0 batch #: 176  of 300 sample #: 199 reconstruction error: 0.030965\n",
      "Epoch: 0 batch #: 177  of 300 sample #: 199 reconstruction error: 0.028784\n",
      "Epoch: 0 batch #: 178  of 300 sample #: 199 reconstruction error: 0.107711\n",
      "Epoch: 0 batch #: 179  of 300 sample #: 199 reconstruction error: 0.068667\n",
      "Epoch: 0 batch #: 180  of 300 sample #: 199 reconstruction error: 0.087303\n",
      "Epoch: 0 batch #: 181  of 300 sample #: 199 reconstruction error: 0.102040\n",
      "Epoch: 0 batch #: 182  of 300 sample #: 199 reconstruction error: 0.067603\n",
      "Epoch: 0 batch #: 183  of 300 sample #: 199 reconstruction error: 0.134429\n",
      "Epoch: 0 batch #: 184  of 300 sample #: 199 reconstruction error: 0.050873\n",
      "Epoch: 0 batch #: 185  of 300 sample #: 199 reconstruction error: 0.078676\n",
      "Epoch: 0 batch #: 186  of 300 sample #: 199 reconstruction error: 0.092385\n",
      "Epoch: 0 batch #: 187  of 300 sample #: 199 reconstruction error: 0.053862\n",
      "Epoch: 0 batch #: 188  of 300 sample #: 199 reconstruction error: 0.100361\n",
      "Epoch: 0 batch #: 189  of 300 sample #: 199 reconstruction error: 0.094363\n",
      "Epoch: 0 batch #: 190  of 300 sample #: 199 reconstruction error: 0.075763\n",
      "Epoch: 0 batch #: 191  of 300 sample #: 199 reconstruction error: 0.098920\n",
      "Epoch: 0 batch #: 192  of 300 sample #: 199 reconstruction error: 0.117238\n",
      "Epoch: 0 batch #: 193  of 300 sample #: 199 reconstruction error: 0.100773\n",
      "Epoch: 0 batch #: 194  of 300 sample #: 199 reconstruction error: 0.083005\n",
      "Epoch: 0 batch #: 195  of 300 sample #: 199 reconstruction error: 0.049790\n",
      "Epoch: 0 batch #: 196  of 300 sample #: 199 reconstruction error: 0.048724\n",
      "Epoch: 0 batch #: 197  of 300 sample #: 199 reconstruction error: 0.054850\n",
      "Epoch: 0 batch #: 198  of 300 sample #: 199 reconstruction error: 0.068330\n",
      "Epoch: 0 batch #: 199  of 300 sample #: 199 reconstruction error: 0.066388\n",
      "Epoch: 0 batch #: 200  of 300 sample #: 199 reconstruction error: 0.105867\n",
      "Epoch: 0 batch #: 201  of 300 sample #: 199 reconstruction error: 0.101377\n",
      "Epoch: 0 batch #: 202  of 300 sample #: 199 reconstruction error: 0.025052\n",
      "Epoch: 0 batch #: 203  of 300 sample #: 199 reconstruction error: 0.085770\n",
      "Epoch: 0 batch #: 204  of 300 sample #: 199 reconstruction error: 0.051630\n",
      "Epoch: 0 batch #: 205  of 300 sample #: 199 reconstruction error: 0.018489\n",
      "Epoch: 0 batch #: 206  of 300 sample #: 199 reconstruction error: 0.057305\n",
      "Epoch: 0 batch #: 207  of 300 sample #: 199 reconstruction error: 0.102576\n",
      "Epoch: 0 batch #: 208  of 300 sample #: 199 reconstruction error: 0.050629\n",
      "Epoch: 0 batch #: 209  of 300 sample #: 199 reconstruction error: 0.034967\n",
      "Epoch: 0 batch #: 210  of 300 sample #: 199 reconstruction error: 0.119315\n",
      "Epoch: 0 batch #: 211  of 300 sample #: 199 reconstruction error: 0.102573\n",
      "Epoch: 0 batch #: 212  of 300 sample #: 199 reconstruction error: 0.083046\n",
      "Epoch: 0 batch #: 213  of 300 sample #: 199 reconstruction error: 0.096676\n",
      "Epoch: 0 batch #: 214  of 300 sample #: 199 reconstruction error: 0.099953\n",
      "Epoch: 0 batch #: 215  of 300 sample #: 199 reconstruction error: 0.040136\n",
      "Epoch: 0 batch #: 216  of 300 sample #: 199 reconstruction error: 0.086191\n",
      "Epoch: 0 batch #: 217  of 300 sample #: 199 reconstruction error: 0.091895\n",
      "Epoch: 0 batch #: 218  of 300 sample #: 199 reconstruction error: 0.078966\n",
      "Epoch: 0 batch #: 219  of 300 sample #: 199 reconstruction error: 0.058896\n",
      "Epoch: 0 batch #: 220  of 300 sample #: 199 reconstruction error: 0.060176\n",
      "Epoch: 0 batch #: 221  of 300 sample #: 199 reconstruction error: 0.080680\n",
      "Epoch: 0 batch #: 222  of 300 sample #: 199 reconstruction error: 0.093494\n",
      "Epoch: 0 batch #: 223  of 300 sample #: 199 reconstruction error: 0.083217\n",
      "Epoch: 0 batch #: 224  of 300 sample #: 199 reconstruction error: 0.063171\n",
      "Epoch: 0 batch #: 225  of 300 sample #: 199 reconstruction error: 0.064941\n",
      "Epoch: 0 batch #: 226  of 300 sample #: 199 reconstruction error: 0.119669\n",
      "Epoch: 0 batch #: 227  of 300 sample #: 199 reconstruction error: 0.085925\n",
      "Epoch: 0 batch #: 228  of 300 sample #: 199 reconstruction error: 0.069397\n",
      "Epoch: 0 batch #: 229  of 300 sample #: 199 reconstruction error: 0.052070\n",
      "Epoch: 0 batch #: 230  of 300 sample #: 199 reconstruction error: 0.026460\n",
      "Epoch: 0 batch #: 231  of 300 sample #: 199 reconstruction error: 0.029216\n",
      "Epoch: 0 batch #: 232  of 300 sample #: 199 reconstruction error: 0.073685\n",
      "Epoch: 0 batch #: 233  of 300 sample #: 199 reconstruction error: 0.077278\n",
      "Epoch: 0 batch #: 234  of 300 sample #: 199 reconstruction error: 0.063256\n",
      "Epoch: 0 batch #: 235  of 300 sample #: 199 reconstruction error: 0.078218\n",
      "Epoch: 0 batch #: 236  of 300 sample #: 199 reconstruction error: 0.081269\n",
      "Epoch: 0 batch #: 237  of 300 sample #: 199 reconstruction error: 0.068460\n",
      "Epoch: 0 batch #: 238  of 300 sample #: 199 reconstruction error: 0.112459\n",
      "Epoch: 0 batch #: 239  of 300 sample #: 199 reconstruction error: 0.026244\n",
      "Epoch: 0 batch #: 240  of 300 sample #: 199 reconstruction error: 0.105524\n",
      "Epoch: 0 batch #: 241  of 300 sample #: 199 reconstruction error: 0.075548\n",
      "Epoch: 0 batch #: 242  of 300 sample #: 199 reconstruction error: 0.075107\n",
      "Epoch: 0 batch #: 243  of 300 sample #: 199 reconstruction error: 0.069225\n",
      "Epoch: 0 batch #: 244  of 300 sample #: 199 reconstruction error: 0.093783\n",
      "Epoch: 0 batch #: 245  of 300 sample #: 199 reconstruction error: 0.063343\n",
      "Epoch: 0 batch #: 246  of 300 sample #: 199 reconstruction error: 0.101680\n",
      "Epoch: 0 batch #: 247  of 300 sample #: 199 reconstruction error: 0.058760\n",
      "Epoch: 0 batch #: 248  of 300 sample #: 199 reconstruction error: 0.079182\n",
      "Epoch: 0 batch #: 249  of 300 sample #: 199 reconstruction error: 0.040439\n",
      "Epoch: 0 batch #: 250  of 300 sample #: 199 reconstruction error: 0.084430\n",
      "Epoch: 0 batch #: 251  of 300 sample #: 199 reconstruction error: 0.051733\n",
      "Epoch: 0 batch #: 252  of 300 sample #: 199 reconstruction error: 0.075004\n",
      "Epoch: 0 batch #: 253  of 300 sample #: 199 reconstruction error: 0.057791\n",
      "Epoch: 0 batch #: 254  of 300 sample #: 199 reconstruction error: 0.023915\n",
      "Epoch: 0 batch #: 255  of 300 sample #: 199 reconstruction error: 0.049005\n",
      "Epoch: 0 batch #: 256  of 300 sample #: 199 reconstruction error: 0.072383\n",
      "Epoch: 0 batch #: 257  of 300 sample #: 199 reconstruction error: 0.085727\n",
      "Epoch: 0 batch #: 258  of 300 sample #: 199 reconstruction error: 0.097662\n",
      "Epoch: 0 batch #: 259  of 300 sample #: 199 reconstruction error: 0.071897\n",
      "Epoch: 0 batch #: 260  of 300 sample #: 199 reconstruction error: 0.105901\n",
      "Epoch: 0 batch #: 261  of 300 sample #: 199 reconstruction error: 0.037103\n",
      "Epoch: 0 batch #: 262  of 300 sample #: 199 reconstruction error: 0.047671\n",
      "Epoch: 0 batch #: 263  of 300 sample #: 199 reconstruction error: 0.087155\n",
      "Epoch: 0 batch #: 264  of 300 sample #: 199 reconstruction error: 0.072119\n",
      "Epoch: 0 batch #: 265  of 300 sample #: 199 reconstruction error: 0.064066\n",
      "Epoch: 0 batch #: 266  of 300 sample #: 199 reconstruction error: 0.037970\n",
      "Epoch: 0 batch #: 267  of 300 sample #: 199 reconstruction error: 0.060083\n",
      "Epoch: 0 batch #: 268  of 300 sample #: 199 reconstruction error: 0.023699\n",
      "Epoch: 0 batch #: 269  of 300 sample #: 199 reconstruction error: 0.069220\n",
      "Epoch: 0 batch #: 270  of 300 sample #: 199 reconstruction error: 0.080816\n",
      "Epoch: 0 batch #: 271  of 300 sample #: 199 reconstruction error: 0.050010\n",
      "Epoch: 0 batch #: 272  of 300 sample #: 199 reconstruction error: 0.063922\n",
      "Epoch: 0 batch #: 273  of 300 sample #: 199 reconstruction error: 0.043778\n",
      "Epoch: 0 batch #: 274  of 300 sample #: 199 reconstruction error: 0.051440\n",
      "Epoch: 0 batch #: 275  of 300 sample #: 199 reconstruction error: 0.085025\n",
      "Epoch: 0 batch #: 276  of 300 sample #: 199 reconstruction error: 0.069695\n",
      "Epoch: 0 batch #: 277  of 300 sample #: 199 reconstruction error: 0.063345\n",
      "Epoch: 0 batch #: 278  of 300 sample #: 199 reconstruction error: 0.064022\n",
      "Epoch: 0 batch #: 279  of 300 sample #: 199 reconstruction error: 0.044818\n",
      "Epoch: 0 batch #: 280  of 300 sample #: 199 reconstruction error: 0.081420\n",
      "Epoch: 0 batch #: 281  of 300 sample #: 199 reconstruction error: 0.075404\n",
      "Epoch: 0 batch #: 282  of 300 sample #: 199 reconstruction error: 0.088864\n",
      "Epoch: 0 batch #: 283  of 300 sample #: 199 reconstruction error: 0.045361\n",
      "Epoch: 0 batch #: 284  of 300 sample #: 199 reconstruction error: 0.059306\n",
      "Epoch: 0 batch #: 285  of 300 sample #: 199 reconstruction error: 0.065796\n",
      "Epoch: 0 batch #: 286  of 300 sample #: 199 reconstruction error: 0.093778\n",
      "Epoch: 0 batch #: 287  of 300 sample #: 199 reconstruction error: 0.077082\n",
      "Epoch: 0 batch #: 288  of 300 sample #: 199 reconstruction error: 0.024646\n",
      "Epoch: 0 batch #: 289  of 300 sample #: 199 reconstruction error: 0.096531\n",
      "Epoch: 0 batch #: 290  of 300 sample #: 199 reconstruction error: 0.086624\n",
      "Epoch: 0 batch #: 291  of 300 sample #: 199 reconstruction error: 0.105187\n",
      "Epoch: 0 batch #: 292  of 300 sample #: 199 reconstruction error: 0.076254\n",
      "Epoch: 0 batch #: 293  of 300 sample #: 199 reconstruction error: 0.059251\n",
      "Epoch: 0 batch #: 294  of 300 sample #: 199 reconstruction error: 0.091155\n",
      "Epoch: 0 batch #: 295  of 300 sample #: 199 reconstruction error: 0.075947\n",
      "Epoch: 0 batch #: 296  of 300 sample #: 199 reconstruction error: 0.021446\n",
      "Epoch: 0 batch #: 297  of 300 sample #: 199 reconstruction error: 0.128311\n",
      "Epoch: 0 batch #: 298  of 300 sample #: 199 reconstruction error: 0.049246\n",
      "Epoch: 0 batch #: 299  of 300 sample #: 199 reconstruction error: 0.039441\n",
      "Epoch: 0 batch #: 300  of 300 sample #: 199 reconstruction error: 0.082069\n"
     ]
    }
   ],
   "source": [
    "# Parameters\n",
    "alpha = 0.01\n",
    "epochs = 1\n",
    "batchsize = 200\n",
    "weights = []\n",
    "errors = []\n",
    "batch_number = 0\n",
    "K = 1\n",
    "\n",
    "# creating datasets\n",
    "train_ds = tf.data.Dataset.from_tensor_slices((trX, trY)).batch(batchsize)\n",
    "\n",
    "for epoch in range(epochs):\n",
    "    for batch_x, batch_y in train_ds:\n",
    "        batch_number += 1\n",
    "        for i_sample in range(batchsize):\n",
    "            for k in range(K):\n",
    "                v0_state = batch_x[i_sample]\n",
    "                h0_state = hidden_layer(v0_state, W, hb)\n",
    "                v1_state = reconstructed_output(h0_state, W, vb)\n",
    "                h1_state = hidden_layer(v1_state, W, hb)\n",
    "\n",
    "                delta_W = tf.matmul(tf.transpose([v0_state]), h0_state) - tf.matmul(\n",
    "                    tf.transpose([v1_state]), h1_state\n",
    "                )\n",
    "                W = W + alpha * delta_W\n",
    "\n",
    "                vb = vb + alpha * tf.reduce_mean(v0_state - v1_state, 0)\n",
    "                hb = hb + alpha * tf.reduce_mean(h0_state - h1_state, 0)\n",
    "\n",
    "                v0_state = v1_state\n",
    "\n",
    "            if i_sample == batchsize - 1:\n",
    "                err = error(batch_x[i_sample], v1_state)\n",
    "                errors.append(err)\n",
    "                weights.append(W)\n",
    "                print(\n",
    "                    \"Epoch: %d\" % epoch,\n",
    "                    \"batch #: %i \" % batch_number,\n",
    "                    \"of %i\" % int(60e3 / batchsize),\n",
    "                    \"sample #: %i\" % i_sample,\n",
    "                    \"reconstruction error: %f\" % err,\n",
    "                )"
   ]
  },
  {
   "cell_type": "markdown",
   "metadata": {},
   "source": [
    "Let's take a look at the errors at the end of each batch:\n"
   ]
  },
  {
   "cell_type": "code",
   "execution_count": 22,
   "metadata": {
    "tags": []
   },
   "outputs": [
    {
     "data": {
      "image/png": "[encoded data removed]",
      "text/plain": [
       "<Figure size 640x480 with 1 Axes>"
      ]
     },
     "metadata": {},
     "output_type": "display_data"
    }
   ],
   "source": [
    "plt.plot(errors)\n",
    "plt.xlabel(\"Batch Number\")\n",
    "plt.ylabel(\"Error\")\n",
    "plt.show()"
   ]
  },
  {
   "cell_type": "markdown",
   "metadata": {},
   "source": [
    "What is the final weight matrix $W$ after training?\n"
   ]
  },
  {
   "cell_type": "code",
   "execution_count": 23,
   "metadata": {
    "tags": []
   },
   "outputs": [
    {
     "name": "stdout",
     "output_type": "stream",
     "text": [
      "[[-0.29       -0.23000003 -0.26000002 ... -0.20000002 -0.5399998\n",
      "  -0.34999993]\n",
      " [-0.29       -0.16       -0.20000002 ... -0.18       -0.43999985\n",
      "  -0.31999996]\n",
      " [-0.26000002 -0.20000002 -0.25000003 ... -0.18       -0.46999982\n",
      "  -0.33999994]\n",
      " ...\n",
      " [-0.32999995 -0.20000002 -0.27       ... -0.18       -0.43999985\n",
      "  -0.36999992]\n",
      " [-0.28       -0.17       -0.18       ... -0.17       -0.5399998\n",
      "  -0.25000003]\n",
      " [-0.32999995 -0.23000003 -0.28       ... -0.17       -0.42999986\n",
      "  -0.33999994]]\n"
     ]
    }
   ],
   "source": [
    "print(W.numpy())  # a weight matrix of shape (50,784)"
   ]
  },
  {
   "cell_type": "markdown",
   "metadata": {},
   "source": [
    "<a id=\"ref5\"></a>\n",
    "<h3>Learned features</h3> \n"
   ]
  },
  {
   "cell_type": "markdown",
   "metadata": {},
   "source": [
    "We can take each hidden unit and visualize the connections between that hidden unit and each element in the input vector. In our case, we have 50 hidden units. Lets visualize those.\n"
   ]
  },
  {
   "cell_type": "markdown",
   "metadata": {},
   "source": [
    "Let's plot the current weights:\n",
    "<b>tile_raster_images</b> helps in generating an easy to grasp image from a set of samples or weights. It transforms the <b>uw</b> (with one flattened image per row of size 784), into an array (of size $28\\times28$) in which images are reshaped and laid out like tiles on a floor.\n"
   ]
  },
  {
   "cell_type": "code",
   "execution_count": 24,
   "metadata": {
    "tags": []
   },
   "outputs": [
    {
     "data": {
      "image/png": "[encoded data removed]",
      "text/plain": [
       "<Figure size 1800x1800 with 1 Axes>"
      ]
     },
     "metadata": {},
     "output_type": "display_data"
    }
   ],
   "source": [
    "tile_raster_images(\n",
    "    X=W.numpy().T, img_shape=(28, 28), tile_shape=(5, 10), tile_spacing=(1, 1)\n",
    ")\n",
    "import matplotlib.pyplot as plt\n",
    "from PIL import Image\n",
    "\n",
    "%matplotlib inline\n",
    "image = Image.fromarray(\n",
    "    tile_raster_images(\n",
    "        X=W.numpy().T, img_shape=(28, 28), tile_shape=(5, 10), tile_spacing=(1, 1)\n",
    "    )\n",
    ")\n",
    "### Plot image\n",
    "plt.rcParams[\"figure.figsize\"] = (18.0, 18.0)\n",
    "imgplot = plt.imshow(image)\n",
    "imgplot.set_cmap(\"gray\")"
   ]
  },
  {
   "cell_type": "markdown",
   "metadata": {},
   "source": [
    "Each tile in the above visualization corresponds to a vector of connections between a hidden unit and visible layer's units. \n"
   ]
  },
  {
   "cell_type": "markdown",
   "metadata": {},
   "source": [
    "Let's look at one of the learned weights corresponding to one of hidden units for example. In this particular square, the gray color represents weight = 0, and the whiter it is, the more positive the weights are (closer to 1). Conversely, the darker pixels are, the more negative the weights. The positive pixels will increase the probability of activation in hidden units (after multiplying by input/visible pixels), and negative pixels will decrease the probability of a unit hidden to be 1 (activated). So, why is this important?  So we can see that this specific square (hidden unit) can detect a feature (e.g. a \"/\" shape) and if it exists in the input.\n"
   ]
  },
  {
   "cell_type": "code",
   "execution_count": 25,
   "metadata": {
    "tags": []
   },
   "outputs": [
    {
     "data": {
      "image/png": "[encoded data removed]",
      "text/plain": [
       "<Figure size 400x400 with 1 Axes>"
      ]
     },
     "metadata": {},
     "output_type": "display_data"
    }
   ],
   "source": [
    "from PIL import Image\n",
    "\n",
    "image = Image.fromarray(\n",
    "    tile_raster_images(\n",
    "        X=W.numpy().T[10:11], img_shape=(28, 28), tile_shape=(1, 1), tile_spacing=(1, 1)\n",
    "    )\n",
    ")\n",
    "### Plot image\n",
    "plt.rcParams[\"figure.figsize\"] = (4.0, 4.0)\n",
    "imgplot = plt.imshow(image)\n",
    "imgplot.set_cmap(\"gray\")"
   ]
  },
  {
   "cell_type": "markdown",
   "metadata": {},
   "source": [
    "Let's look at the reconstruction of an image now. Imagine that we have a destructed image of figure 3. Lets see if our trained network can fix it:\n",
    "\n",
    "First we plot the image:\n"
   ]
  },
  {
   "cell_type": "code",
   "execution_count": 26,
   "metadata": {
    "tags": []
   },
   "outputs": [
    {
     "name": "stdout",
     "output_type": "stream",
     "text": [
      "--2024-05-30 17:10:26--  https://ibm.box.com/shared/static/vvm1b63uvuxq88vbw9znpwu5ol380mco.jpg\n",
      "Resolving ibm.box.com (ibm.box.com)... 74.112.186.144, 74.112.186.144\n",
      "Connecting to ibm.box.com (ibm.box.com)|74.112.186.144|:443... connected.\n",
      "HTTP request sent, awaiting response... 301 Moved Permanently\n",
      "Location: /public/static/vvm1b63uvuxq88vbw9znpwu5ol380mco.jpg [following]\n",
      "--2024-05-30 17:10:26--  https://ibm.box.com/public/static/vvm1b63uvuxq88vbw9znpwu5ol380mco.jpg\n",
      "Reusing existing connection to ibm.box.com:443.\n",
      "HTTP request sent, awaiting response... 301 Moved Permanently\n",
      "Location: https://ibm.ent.box.com/public/static/vvm1b63uvuxq88vbw9znpwu5ol380mco.jpg [following]\n",
      "--2024-05-30 17:10:26--  https://ibm.ent.box.com/public/static/vvm1b63uvuxq88vbw9znpwu5ol380mco.jpg\n",
      "Resolving ibm.ent.box.com (ibm.ent.box.com)... 74.112.186.144, 74.112.186.144\n",
      "Connecting to ibm.ent.box.com (ibm.ent.box.com)|74.112.186.144|:443... connected.\n",
      "HTTP request sent, awaiting response... 302 Found\n",
      "Location: https://public.boxcloud.com/d/1/b1!dUeqGw0f-dNVnBbWNB9x5bo_9WmNoaeSmy28jEGQJuYILc6a4hKaUiuzLs_LYawHU4JgToLqJkCZUhvO6HSoisvi9oWg-lnGPZlfZruK-pcP8MtYoxv0ncpsqn8udjE8QX0AHWVAmFhugc09Hrc-mGpTXCIfNM8WWowqmWRAUKk7HC1QD4yzSKcrkHPZCCH77eMD_w7HYXfOydfPd65P2qkbPzIPoKnpKtZBY8AHaGX0-Tsq-6ijvpfO9gf97EGccqPfF0beWVqPGPggGjOFhuYq_5PUxhmtew20iOuBD9WQLRd-DxWg9YigFgRXiZQVKwudNJgsBcPe6hpsg1MFJQCaimcKirDvZSiK7C759rB9cXdfq0aGw4gx0whpWZl84A5EssIMdFLviRHzTrOlEzbiD_Ue0AAr0VtSdQE2bya2bkW6T66lHmyV4kyW1uTqO34mLjlSI8K_z7A7VkALhiRlMlL0JQLvsj5XvTSvxHffnmIVzkM5QKBCtfEuWH02MvEIafrSf7o9Ba8SjSaxMqpeTU6SE50HOwEB_jZQm317MXruvUxRzTMcUUPG6SU-uXn6dH1YJ_wUeIhVU1edyDyxC-hL86h5I9knQTiZQWoIzn2CzePGinw553ZnYV1LiLdEXDnx9ygwi-rRkVQc6siW_q-iNxm6P3u5sOghX3yU66ChVBh6If-fxbGzSsc09-PfINlOk1IMzh2hgnn3hyQArCm4ZOqDqopBDWkynJGRNgXI3TO6yonZrtJiOrKsZQazb9rBh9PmLjHDKgM71QP7NqsbRuzqlbyJ_hhfTC3fhGQHmwC0uBqDgkmGr8LU8peq123cjc618fhA96YfAZxiqgmIniBgeVsg3CETsq8QiEJWblNdL5ri6IkOJPu1tIn2QQvDVJTOt-u3ulGPUH6N2PyNAYvfhOCQ1UW3PbNzW2L-Usufl7FhACCWJIfo4Ctr7lJxvaHJ6rVVr6aKDzI8j41pRomuWg-9OavuvgrfmETmSIkqtWTBxh8qLUjlWsNZ8sJCnrRFJY_A2yb1TSsPh6wUbFENFmzOEU9oyP6L7Y1BLmltwyshFyP9_ZhxWDpBfPZS1S17jsSlkXQt-Cduv1oszsm1rkifKK2FVpBfsPChVCv_XHTgBTbRikzQfvWllYO1FGwfRG-V0e-V5-fkpGnfQ0S52F6KZHhFcdgZZ3PwlkgakJD_2NgO00r_Q9BVWx_CBcuIFRys0mSn55prACznJL6OT7osStszg75Gfr5i8kMaMgZYlLcDZ_zJAt9q0eJmkW2DHXdqj33BK5Y4fPvlI-TrYP3PAgLMGGC14S_vMIQeC5Bgkyv_lHaiOZzB9r0ssaF0M_uvZvH80QUG7uXdhZrYrjPj5RojXH3H7eu9UfFNRLvFQG8Jg2-uPOJMifajsbOkCWkiMMc./download [following]\n",
      "--2024-05-30 17:10:27--  https://public.boxcloud.com/d/1/b1!dUeqGw0f-dNVnBbWNB9x5bo_9WmNoaeSmy28jEGQJuYILc6a4hKaUiuzLs_LYawHU4JgToLqJkCZUhvO6HSoisvi9oWg-lnGPZlfZruK-pcP8MtYoxv0ncpsqn8udjE8QX0AHWVAmFhugc09Hrc-mGpTXCIfNM8WWowqmWRAUKk7HC1QD4yzSKcrkHPZCCH77eMD_w7HYXfOydfPd65P2qkbPzIPoKnpKtZBY8AHaGX0-Tsq-6ijvpfO9gf97EGccqPfF0beWVqPGPggGjOFhuYq_5PUxhmtew20iOuBD9WQLRd-DxWg9YigFgRXiZQVKwudNJgsBcPe6hpsg1MFJQCaimcKirDvZSiK7C759rB9cXdfq0aGw4gx0whpWZl84A5EssIMdFLviRHzTrOlEzbiD_Ue0AAr0VtSdQE2bya2bkW6T66lHmyV4kyW1uTqO34mLjlSI8K_z7A7VkALhiRlMlL0JQLvsj5XvTSvxHffnmIVzkM5QKBCtfEuWH02MvEIafrSf7o9Ba8SjSaxMqpeTU6SE50HOwEB_jZQm317MXruvUxRzTMcUUPG6SU-uXn6dH1YJ_wUeIhVU1edyDyxC-hL86h5I9knQTiZQWoIzn2CzePGinw553ZnYV1LiLdEXDnx9ygwi-rRkVQc6siW_q-iNxm6P3u5sOghX3yU66ChVBh6If-fxbGzSsc09-PfINlOk1IMzh2hgnn3hyQArCm4ZOqDqopBDWkynJGRNgXI3TO6yonZrtJiOrKsZQazb9rBh9PmLjHDKgM71QP7NqsbRuzqlbyJ_hhfTC3fhGQHmwC0uBqDgkmGr8LU8peq123cjc618fhA96YfAZxiqgmIniBgeVsg3CETsq8QiEJWblNdL5ri6IkOJPu1tIn2QQvDVJTOt-u3ulGPUH6N2PyNAYvfhOCQ1UW3PbNzW2L-Usufl7FhACCWJIfo4Ctr7lJxvaHJ6rVVr6aKDzI8j41pRomuWg-9OavuvgrfmETmSIkqtWTBxh8qLUjlWsNZ8sJCnrRFJY_A2yb1TSsPh6wUbFENFmzOEU9oyP6L7Y1BLmltwyshFyP9_ZhxWDpBfPZS1S17jsSlkXQt-Cduv1oszsm1rkifKK2FVpBfsPChVCv_XHTgBTbRikzQfvWllYO1FGwfRG-V0e-V5-fkpGnfQ0S52F6KZHhFcdgZZ3PwlkgakJD_2NgO00r_Q9BVWx_CBcuIFRys0mSn55prACznJL6OT7osStszg75Gfr5i8kMaMgZYlLcDZ_zJAt9q0eJmkW2DHXdqj33BK5Y4fPvlI-TrYP3PAgLMGGC14S_vMIQeC5Bgkyv_lHaiOZzB9r0ssaF0M_uvZvH80QUG7uXdhZrYrjPj5RojXH3H7eu9UfFNRLvFQG8Jg2-uPOJMifajsbOkCWkiMMc./download\n",
      "Resolving public.boxcloud.com (public.boxcloud.com)... 74.112.186.130, 74.112.186.130\n",
      "Connecting to public.boxcloud.com (public.boxcloud.com)|74.112.186.130|:443... connected.\n",
      "HTTP request sent, awaiting response... 200 OK\n",
      "Length: 24383 (24K) [image/jpeg]\n",
      "Saving to: ‘destructed3.jpg’\n",
      "\n",
      "destructed3.jpg     100%[===================>]  23.81K  --.-KB/s    in 0.002s  \n",
      "\n",
      "2024-05-30 17:10:28 (14.2 MB/s) - ‘destructed3.jpg’ saved [24383/24383]\n",
      "\n"
     ]
    },
    {
     "data": {
      "image/png": "[encoded data removed]",
      "text/plain": [
       "<PIL.JpegImagePlugin.JpegImageFile image mode=RGB size=181x181 at 0x7F78387F8710>"
      ]
     },
     "execution_count": 26,
     "metadata": {},
     "output_type": "execute_result"
    }
   ],
   "source": [
    "!wget -O destructed3.jpg  https://ibm.box.com/shared/static/vvm1b63uvuxq88vbw9znpwu5ol380mco.jpg\n",
    "img = Image.open(\"destructed3.jpg\")\n",
    "img"
   ]
  },
  {
   "cell_type": "markdown",
   "metadata": {},
   "source": [
    "Now let's pass this image through the neural net:\n"
   ]
  },
  {
   "cell_type": "code",
   "execution_count": 27,
   "metadata": {
    "tags": []
   },
   "outputs": [],
   "source": [
    "# convert the image to a 1d numpy array\n",
    "sample_case = (\n",
    "    np.array(img.convert(\"I\").resize((28, 28))).ravel().reshape((1, -1)) / 255.0\n",
    ")\n",
    "\n",
    "sample_case = tf.cast(sample_case, dtype=tf.float32)"
   ]
  },
  {
   "cell_type": "markdown",
   "metadata": {},
   "source": [
    "Feed the sample case into the network and reconstruct the output:\n"
   ]
  },
  {
   "cell_type": "code",
   "execution_count": 28,
   "metadata": {
    "tags": []
   },
   "outputs": [
    {
     "name": "stdout",
     "output_type": "stream",
     "text": [
      "Probability nodes in hidden layer: tf.Tensor(\n",
      "[[5.5226151e-10 5.7448597e-09 1.8792213e-07 4.6306210e-13 9.1406852e-01\n",
      "  3.5855942e-06 4.5734323e-03 9.9728262e-01 3.5727070e-14 4.9863138e-07\n",
      "  6.7429164e-16 9.8549622e-01 1.0000000e+00 5.8387566e-01 1.5935125e-06\n",
      "  1.3212878e-14 9.9999225e-01 3.1893672e-11 1.9254606e-14 2.2415117e-10\n",
      "  7.9062520e-11 9.9999988e-01 1.0000000e+00 3.5494845e-04 1.5042620e-04\n",
      "  1.3103330e-04 9.9974042e-01 9.9287331e-01 2.5082980e-05 8.8674817e-10\n",
      "  9.9998808e-01 9.9999958e-01 5.0765782e-04 7.6629084e-01 9.9045104e-01\n",
      "  3.6655280e-03 6.6494560e-15 4.2936802e-01 6.6932281e-15 2.2103142e-02\n",
      "  8.7147858e-04 3.3207295e-10 1.0000000e+00 2.8733763e-07 5.2873827e-11\n",
      "  9.0100028e-04 9.9986476e-01 4.2015355e-14 1.0000000e+00 2.5251444e-02]], shape=(1, 50), dtype=float32)\n",
      "activated nodes in hidden layer: tf.Tensor(\n",
      "[[0. 0. 0. 0. 1. 0. 0. 1. 0. 0. 0. 1. 1. 1. 0. 0. 1. 0. 0. 0. 0. 1. 1. 0.\n",
      "  0. 0. 1. 1. 0. 0. 1. 1. 0. 1. 1. 0. 0. 0. 0. 0. 0. 0. 1. 0. 0. 0. 1. 0.\n",
      "  1. 0.]], shape=(1, 50), dtype=float32)\n",
      "tf.Tensor(\n",
      "[[1.90633888e-04 4.03485610e-04 3.79997538e-04 1.74229062e-04\n",
      "  2.19274734e-04 3.33689561e-04 2.65145849e-04 2.73218466e-04\n",
      "  2.23703479e-04 2.35170359e-04 2.30514648e-04 2.90108321e-04\n",
      "  2.67925672e-04 3.36210447e-04 3.29633156e-04 2.40598369e-04\n",
      "  2.98940984e-04 3.33689561e-04 3.08042188e-04 2.87222734e-04\n",
      "  3.04977992e-04 2.90108583e-04 2.52217753e-04 2.70500575e-04\n",
      "  3.99472570e-04 2.30514648e-04 2.59896857e-04 2.78736436e-04\n",
      "  3.50791903e-04 3.65102751e-04 1.92549443e-04 3.87671258e-04\n",
      "  3.97489086e-04 3.16154037e-04 3.27084359e-04 3.24263005e-04\n",
      "  2.96176149e-04 2.64927541e-04 3.59282334e-04 3.38074635e-04\n",
      "  6.05550245e-04 4.66846512e-04 2.99622363e-04 3.05277586e-04\n",
      "  4.63927689e-04 5.09270118e-04 6.49910944e-04 3.03570763e-04\n",
      "  3.30616691e-04 2.30298043e-04 2.34599516e-04 2.25146563e-04\n",
      "  1.90633888e-04 2.44765484e-04 3.04977992e-04 3.17420403e-04\n",
      "  2.54751969e-04 1.92549254e-04 4.01497935e-04 1.74406930e-04\n",
      "  2.15989785e-04 2.21660564e-04 2.49904959e-04 3.35105957e-04\n",
      "  2.68031436e-04 3.59169848e-04 2.32932114e-04 1.59874282e-04\n",
      "  1.09857283e-04 8.01828355e-05 9.60817124e-05 2.46423559e-04\n",
      "  1.96780282e-04 1.22621015e-04 1.23639213e-04 2.88631472e-05\n",
      "  4.43396384e-05 1.41859462e-04 2.49005709e-04 3.05912487e-04\n",
      "  3.09810508e-04 2.12395680e-04 2.52217520e-04 3.11137148e-04\n",
      "  3.33689561e-04 2.35170141e-04 2.38662964e-04 2.25836047e-04\n",
      "  2.49904726e-04 3.62977240e-04 3.55987664e-04 3.03499866e-04\n",
      "  9.99435724e-05 1.43088808e-04 1.36768882e-04 5.43905735e-05\n",
      "  8.91844538e-05 1.97568763e-04 2.51194928e-04 9.24086664e-04\n",
      "  8.91199685e-04 7.85808952e-04 2.74704158e-04 1.14677867e-04\n",
      "  5.63574358e-05 6.65645130e-05 1.19141565e-04 1.52699751e-04\n",
      "  3.28897673e-04 4.28509578e-04 2.44650466e-04 2.42330570e-04\n",
      "  2.12795829e-04 2.14159969e-04 3.10065807e-04 3.39801947e-04\n",
      "  5.88930328e-04 1.17872644e-03 4.69435152e-04 4.90599428e-04\n",
      "  6.49383757e-04 5.71744400e-04 3.89217254e-04 8.39149230e-04\n",
      "  1.34048576e-03 5.75615931e-03 7.82659464e-03 1.78879164e-02\n",
      "  2.38025766e-02 1.48906875e-02 6.90068444e-03 2.55036284e-03\n",
      "  5.84537105e-04 4.59559931e-04 1.27184845e-03 1.44656340e-03\n",
      "  9.11567418e-04 6.61113183e-04 3.78941797e-04 2.99939013e-04\n",
      "  3.01944237e-04 2.98940984e-04 2.78790918e-04 4.49164276e-04\n",
      "  1.20959722e-03 7.14594440e-04 8.89454735e-04 1.87465572e-03\n",
      "  2.10639066e-03 2.41015316e-03 1.42677771e-02 4.71142493e-02\n",
      "  7.42111579e-02 2.57387310e-01 3.68888915e-01 6.74537182e-01\n",
      "  7.87632346e-01 6.25868201e-01 3.56483787e-01 2.25502595e-01\n",
      "  5.49630560e-02 1.43773621e-02 4.82471660e-03 4.44772933e-03\n",
      "  1.86578452e-03 1.40441488e-03 1.07936992e-03 3.01199878e-04\n",
      "  2.54751969e-04 3.49406298e-04 3.05301190e-04 9.72364156e-04\n",
      "  1.88116054e-03 2.20547803e-03 5.96536836e-03 6.13437640e-03\n",
      "  4.27096523e-03 1.08717652e-02 7.65018538e-02 5.50017893e-01\n",
      "  8.73184800e-01 9.53094423e-01 9.79790032e-01 9.56676781e-01\n",
      "  9.61340785e-01 9.06387746e-01 8.69735599e-01 8.87854099e-01\n",
      "  3.89616340e-01 1.01923034e-01 3.41968872e-02 7.93714169e-03\n",
      "  4.43037366e-03 3.42121441e-03 9.60023550e-04 1.93199725e-04\n",
      "  2.96826882e-04 3.02039291e-04 6.40581013e-04 2.27986928e-03\n",
      "  4.61590383e-03 1.07387332e-02 2.77651548e-02 2.16070972e-02\n",
      "  2.58586444e-02 1.58046961e-01 5.01070738e-01 9.04689074e-01\n",
      "  9.82774019e-01 9.79493022e-01 9.81151223e-01 9.79139328e-01\n",
      "  9.20694053e-01 8.85773003e-01 8.69450569e-01 8.39773536e-01\n",
      "  6.79938793e-01 1.10195048e-01 2.76200771e-02 1.41028818e-02\n",
      "  6.97496627e-03 3.21342173e-04 4.87320765e-04 2.91065779e-04\n",
      "  2.50935904e-04 3.34043172e-04 6.81634119e-04 3.63726169e-03\n",
      "  4.99787461e-03 2.62107234e-02 7.13024884e-02 1.16516054e-01\n",
      "  1.69441015e-01 2.15144843e-01 7.61202037e-01 9.16172266e-01\n",
      "  9.11644101e-01 8.72892976e-01 5.71793497e-01 4.17140126e-01\n",
      "  3.53764981e-01 4.00813580e-01 6.39862895e-01 6.82963610e-01\n",
      "  5.09538651e-01 1.61147401e-01 4.42593507e-02 9.15910956e-03\n",
      "  3.73687572e-03 4.06870502e-04 4.00210876e-04 3.03534878e-04\n",
      "  3.19317740e-04 3.69408022e-04 1.02907768e-03 2.67480290e-03\n",
      "  7.17209000e-03 4.68981639e-02 7.80670941e-02 8.86497945e-02\n",
      "  1.99422970e-01 2.41753235e-01 5.11072159e-01 5.82025349e-01\n",
      "  2.98585325e-01 1.22719303e-01 2.93368325e-02 2.99616754e-02\n",
      "  9.63170156e-02 2.79207170e-01 5.73537409e-01 5.50787270e-01\n",
      "  4.40807432e-01 2.40142584e-01 5.75368591e-02 1.32765109e-02\n",
      "  2.38686078e-03 3.96666117e-04 3.44240718e-04 2.50945479e-04\n",
      "  2.54402694e-04 4.52274457e-04 8.01659597e-04 2.10833014e-03\n",
      "  1.18010314e-02 1.08019076e-01 7.36224949e-02 8.34620968e-02\n",
      "  1.72126949e-01 1.25281394e-01 1.61840260e-01 6.63860589e-02\n",
      "  2.30605900e-02 5.76413702e-03 3.81070888e-03 6.22973666e-02\n",
      "  2.37595186e-01 4.75329220e-01 5.57305157e-01 5.73656738e-01\n",
      "  5.93786597e-01 2.67260313e-01 7.49983564e-02 1.19755892e-02\n",
      "  1.39315205e-03 7.68203696e-04 8.36707943e-04 3.06356669e-04\n",
      "  4.03422717e-04 4.26565530e-04 1.20321673e-03 2.68192682e-03\n",
      "  1.40617965e-02 5.43433577e-02 1.26150623e-01 9.12000164e-02\n",
      "  6.17520027e-02 3.43589596e-02 1.81165971e-02 3.72314104e-03\n",
      "  8.87917820e-03 1.94776133e-02 9.49229747e-02 2.75834918e-01\n",
      "  7.56066561e-01 8.37157190e-01 5.45525372e-01 5.80844641e-01\n",
      "  4.26736683e-01 1.68901488e-01 1.62338056e-02 3.32494080e-03\n",
      "  1.85246253e-03 1.01002946e-03 5.84585243e-04 2.81051907e-04\n",
      "  3.14744189e-04 3.08115064e-04 6.63527520e-04 1.17219030e-03\n",
      "  4.32757381e-03 4.13419008e-02 4.02027778e-02 3.81480828e-02\n",
      "  2.79056616e-02 2.11056750e-02 1.37334960e-02 1.73609685e-02\n",
      "  9.63619649e-02 4.92792934e-01 7.98047781e-01 8.82941663e-01\n",
      "  8.89864028e-01 7.42656410e-01 5.50665259e-01 5.13316572e-01\n",
      "  2.47561499e-01 6.91526234e-02 1.08765457e-02 1.31238194e-03\n",
      "  5.23584546e-04 4.10716370e-04 3.52626492e-04 3.55610478e-04\n",
      "  2.50975398e-04 2.67768104e-04 6.91128080e-04 8.72190460e-04\n",
      "  8.08150135e-03 1.14878695e-02 1.53412428e-02 1.34108495e-02\n",
      "  1.38640264e-02 2.14114897e-02 6.75254315e-02 2.82334566e-01\n",
      "  7.75941670e-01 9.23324645e-01 9.60645080e-01 9.47605848e-01\n",
      "  9.10244405e-01 5.66018701e-01 6.89527035e-01 3.13190758e-01\n",
      "  1.04530111e-01 1.87289529e-02 1.75004604e-03 8.84481182e-04\n",
      "  3.44377942e-04 8.27741926e-04 4.30664863e-04 4.10843844e-04\n",
      "  2.40409659e-04 3.59648169e-04 4.46548976e-04 8.39005283e-04\n",
      "  1.82981801e-03 6.49019750e-03 8.82789958e-03 5.71149075e-03\n",
      "  6.64613815e-03 1.44849643e-02 1.43300116e-01 5.89760005e-01\n",
      "  8.54790807e-01 9.49944496e-01 9.27727103e-01 8.93310130e-01\n",
      "  8.53922904e-01 7.24943578e-01 5.97862959e-01 2.91239440e-01\n",
      "  3.22349966e-02 4.02294658e-03 9.60894336e-04 3.53528245e-04\n",
      "  3.10495059e-04 2.72225210e-04 4.19139978e-04 2.48264434e-04\n",
      "  3.51673370e-04 2.32575505e-04 3.74188530e-04 1.03627879e-03\n",
      "  4.34789388e-03 5.98485256e-03 6.00295514e-03 3.97177227e-03\n",
      "  2.54137581e-03 7.22443499e-03 5.88120334e-02 2.74369597e-01\n",
      "  6.53938413e-01 7.43648529e-01 3.88109148e-01 2.84899712e-01\n",
      "  5.99557340e-01 6.56612277e-01 7.71789432e-01 1.55066729e-01\n",
      "  1.09924050e-02 2.68067326e-03 1.12176454e-03 7.81447685e-04\n",
      "  3.13319411e-04 3.28577386e-04 3.97100317e-04 3.60043225e-04\n",
      "  3.02715023e-04 3.09895608e-04 8.35035695e-04 2.17120978e-03\n",
      "  6.68154657e-03 7.01710302e-03 8.20279680e-03 1.65775896e-03\n",
      "  2.49145715e-03 1.88810658e-03 1.77985691e-02 6.46355972e-02\n",
      "  8.20326060e-02 1.51432589e-01 5.69712594e-02 1.28335610e-01\n",
      "  4.42142695e-01 7.57135332e-01 7.54063845e-01 1.83518261e-01\n",
      "  1.23984208e-02 1.52734248e-03 9.50001529e-04 6.15179830e-04\n",
      "  5.53618069e-04 2.45371601e-04 5.50129043e-04 3.03523004e-04\n",
      "  2.57311476e-04 2.75909493e-04 5.39474247e-04 3.33069637e-03\n",
      "  1.49778398e-02 3.00286375e-02 4.22992632e-02 3.98212485e-03\n",
      "  2.17953371e-03 2.44779699e-03 8.53791088e-03 1.23208007e-02\n",
      "  2.54939012e-02 5.72700389e-02 1.11729912e-01 2.10931256e-01\n",
      "  5.19631743e-01 8.39961946e-01 4.76370901e-01 1.81307256e-01\n",
      "  1.82970613e-02 7.60547398e-03 5.02884807e-03 1.03252020e-03\n",
      "  8.67606024e-04 5.79612271e-04 8.97530932e-04 3.03523004e-04\n",
      "  2.79853499e-04 2.28678211e-04 1.85208512e-03 7.61771994e-03\n",
      "  6.62475899e-02 1.24661021e-01 1.15509361e-01 2.47899126e-02\n",
      "  5.99696347e-03 4.09788545e-03 1.07667213e-02 3.11018694e-02\n",
      "  3.34347412e-02 7.81708285e-02 1.33948401e-01 3.22062761e-01\n",
      "  7.07813978e-01 8.03095222e-01 5.54191887e-01 1.67295367e-01\n",
      "  2.75637396e-02 6.24721870e-03 6.60049682e-03 4.19388385e-03\n",
      "  3.12331179e-03 1.38925936e-03 5.28114324e-04 4.13785223e-04\n",
      "  2.86042981e-04 2.43339789e-04 3.95640079e-03 5.36155477e-02\n",
      "  2.49290481e-01 3.77015293e-01 4.24415290e-01 1.55451849e-01\n",
      "  3.52277979e-02 2.08037272e-02 1.41425310e-02 1.52811930e-02\n",
      "  2.72772256e-02 8.80776048e-02 1.73574388e-01 5.07250965e-01\n",
      "  6.54968202e-01 7.89539576e-01 3.19976509e-01 6.15402274e-02\n",
      "  1.33114001e-02 6.68217987e-03 1.24638965e-02 4.50554537e-03\n",
      "  3.61460820e-03 1.18646247e-03 6.49300870e-04 3.77074408e-04\n",
      "  2.23703479e-04 2.79206928e-04 4.17190837e-03 1.94265172e-01\n",
      "  3.28046322e-01 6.94501758e-01 7.07063913e-01 4.18096960e-01\n",
      "  2.80635864e-01 6.44576773e-02 1.50265647e-02 3.33059393e-02\n",
      "  5.68999574e-02 1.11457974e-01 3.51609528e-01 6.60735071e-01\n",
      "  7.84475446e-01 4.70155478e-01 1.52526349e-01 1.48184095e-02\n",
      "  1.27361678e-02 1.18564889e-02 1.28408745e-02 8.81227572e-03\n",
      "  6.74769608e-03 1.58542464e-03 7.35330686e-04 2.36966036e-04\n",
      "  3.69712245e-04 4.29063832e-04 3.99304088e-03 2.11134225e-01\n",
      "  3.85134220e-01 7.30746806e-01 8.12560856e-01 8.94666493e-01\n",
      "  5.55700719e-01 1.07959621e-01 2.95703150e-02 4.63014916e-02\n",
      "  1.23933926e-01 3.12717736e-01 4.93303359e-01 6.17196262e-01\n",
      "  4.76014405e-01 1.18129164e-01 1.71115957e-02 6.27233926e-03\n",
      "  3.37508041e-03 1.48052871e-02 2.20980272e-02 1.04805287e-02\n",
      "  6.55007316e-03 1.24312169e-03 5.61433553e-04 1.56432492e-04\n",
      "  2.19748355e-04 2.08011377e-04 2.44228076e-03 9.82963070e-02\n",
      "  4.40135479e-01 5.39144456e-01 8.70797157e-01 9.18582141e-01\n",
      "  7.11463928e-01 2.85963446e-01 1.20213784e-01 2.09219873e-01\n",
      "  2.50296146e-01 4.57617700e-01 6.42175019e-01 5.44899225e-01\n",
      "  2.19526812e-01 3.12355720e-02 6.43144455e-03 8.42166599e-03\n",
      "  7.61877606e-03 2.68798564e-02 1.44452788e-02 9.07742139e-03\n",
      "  3.62786953e-03 9.55558964e-04 3.25026573e-04 1.66162790e-04\n",
      "  2.47224641e-04 2.93023157e-04 4.48584906e-04 2.15913989e-02\n",
      "  1.01311989e-01 5.28034687e-01 7.25720406e-01 8.48770380e-01\n",
      "  7.86138952e-01 7.59781063e-01 5.58887541e-01 5.59590578e-01\n",
      "  4.26604748e-01 4.01702046e-01 4.69484240e-01 3.19627553e-01\n",
      "  7.97636583e-02 1.03455875e-02 5.58974734e-03 8.77959374e-03\n",
      "  1.08253853e-02 7.17401179e-03 7.26332469e-03 2.62372475e-03\n",
      "  1.74059498e-03 4.17631149e-04 4.53854504e-04 2.21478258e-04\n",
      "  2.78736436e-04 2.84365553e-04 2.41023372e-04 1.46870222e-03\n",
      "  1.28073469e-02 1.62062839e-01 2.56866395e-01 4.17303473e-01\n",
      "  6.17028832e-01 6.53518617e-01 5.53124905e-01 3.63654256e-01\n",
      "  2.05866396e-01 1.12364762e-01 1.24011844e-01 1.00198478e-01\n",
      "  2.67832689e-02 1.09319594e-02 4.25940799e-03 5.63762989e-03\n",
      "  4.60490352e-03 1.94099371e-03 1.60547299e-03 8.73078941e-04\n",
      "  6.32448995e-04 3.54108051e-04 2.18288464e-04 2.73218466e-04\n",
      "  1.96438355e-04 3.01944237e-04 2.13012841e-04 3.11271579e-04\n",
      "  8.71711120e-04 3.50798946e-03 4.56674723e-03 1.12218829e-02\n",
      "  1.62535347e-02 2.43113674e-02 9.65737924e-03 1.19541911e-02\n",
      "  1.33262333e-02 1.56870242e-02 4.82779332e-02 1.07975557e-01\n",
      "  1.69791561e-02 5.85536240e-03 2.31629936e-03 1.53053587e-03\n",
      "  2.13423674e-03 6.27709494e-04 4.46060178e-04 6.50701462e-04\n",
      "  3.59817786e-04 3.64716921e-04 3.84116312e-04 2.81536806e-04\n",
      "  2.04453521e-04 2.39919857e-04 3.54316580e-04 2.74970138e-04\n",
      "  2.77449988e-04 9.24694352e-04 1.16158533e-03 6.77374657e-04\n",
      "  4.22059442e-04 6.95728930e-04 4.32141998e-04 6.36910787e-04\n",
      "  3.11304815e-04 1.02608453e-03 3.47271631e-03 3.84673150e-03\n",
      "  1.52443734e-03 3.42505460e-04 9.31605813e-04 6.40456157e-04\n",
      "  4.48902138e-04 4.12522728e-04 2.54982122e-04 2.51043850e-04\n",
      "  2.80160748e-04 2.61512032e-04 2.30514648e-04 2.30514648e-04\n",
      "  3.99472570e-04 3.87670880e-04 2.32830847e-04 2.44765251e-04\n",
      "  2.65301613e-04 3.99519777e-04 6.21587504e-04 6.60827151e-04\n",
      "  7.95588945e-04 1.04844687e-03 1.00088923e-03 8.96688551e-04\n",
      "  5.72950579e-04 1.00116374e-03 5.57861000e-04 1.07035902e-03\n",
      "  8.01473157e-04 7.88946811e-04 6.67568878e-04 4.69083810e-04\n",
      "  5.13055653e-04 2.19679452e-04 3.39628314e-04 2.23984360e-04\n",
      "  2.04453521e-04 3.23830522e-04 2.78736436e-04 3.76217853e-04]], shape=(1, 784), dtype=float32)\n"
     ]
    }
   ],
   "source": [
    "hh0_p = tf.nn.sigmoid(tf.matmul(sample_case, W) + hb)\n",
    "hh0_s = tf.round(hh0_p)\n",
    "\n",
    "print(\"Probability nodes in hidden layer:\", hh0_p)\n",
    "print(\"activated nodes in hidden layer:\", hh0_s)\n",
    "\n",
    "# reconstruct\n",
    "vv1_p = tf.nn.sigmoid(tf.matmul(hh0_s, tf.transpose(W)) + vb)\n",
    "\n",
    "print(vv1_p)\n",
    "# rec_prob = sess.run(vv1_p, feed_dict={ hh0_s: hh0_s_val, W: prv_w, vb: prv_vb})"
   ]
  },
  {
   "cell_type": "markdown",
   "metadata": {},
   "source": [
    "Here we plot the reconstructed image:\n"
   ]
  },
  {
   "cell_type": "code",
   "execution_count": 29,
   "metadata": {
    "tags": []
   },
   "outputs": [
    {
     "data": {
      "image/png": "[encoded data removed]",
      "text/plain": [
       "<Figure size 400x400 with 1 Axes>"
      ]
     },
     "metadata": {},
     "output_type": "display_data"
    }
   ],
   "source": [
    "img = Image.fromarray(\n",
    "    tile_raster_images(\n",
    "        X=vv1_p.numpy(), img_shape=(28, 28), tile_shape=(1, 1), tile_spacing=(1, 1)\n",
    "    )\n",
    ")\n",
    "plt.rcParams[\"figure.figsize\"] = (4.0, 4.0)\n",
    "imgplot = plt.imshow(img)\n",
    "imgplot.set_cmap(\"gray\")"
   ]
  }
 ],
 "metadata": {
  "kernelspec": {
   "display_name": "Python",
   "language": "python",
   "name": "conda-env-python-py"
  },
  "language_info": {
   "codemirror_mode": {
    "name": "ipython",
    "version": 3
   },
   "file_extension": ".py",
   "mimetype": "text/x-python",
   "name": "python",
   "nbconvert_exporter": "python",
   "pygments_lexer": "ipython3",
   "version": "3.7.12"
  }
 },
 "nbformat": 4,
 "nbformat_minor": 4
}
